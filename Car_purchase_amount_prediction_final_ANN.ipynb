{
 "cells": [
  {
   "cell_type": "markdown",
   "metadata": {
    "id": "V8-R9wLLicoL"
   },
   "source": [
    "Another right variant"
   ]
  },
  {
   "cell_type": "code",
   "execution_count": 192,
   "metadata": {
    "id": "1n3UgPqOigkR"
   },
   "outputs": [],
   "source": [
    "import pandas as pd\n",
    "import numpy as np\n",
    "\n",
    "import matplotlib.pyplot as plt\n",
    "import seaborn as sns\n",
    "\n",
    "from sklearn.model_selection import train_test_split\n",
    "from sklearn.pipeline import Pipeline\n",
    "\n",
    "from sklearn.impute import SimpleImputer\n",
    "\n",
    "from sklearn.preprocessing import StandardScaler\n",
    "from sklearn.preprocessing import MinMaxScaler\n",
    "from scipy.spatial import transform\n",
    "\n",
    "from sklearn.compose import ColumnTransformer\n",
    "\n",
    "import tensorflow as tf\n",
    "import tensorflow.keras\n",
    "from tensorflow.keras.models import Sequential\n",
    "from tensorflow.keras.layers import Dense\n",
    "\n",
    "from sklearn.metrics import mean_absolute_error, r2_score, mean_squared_error"
   ]
  },
  {
   "cell_type": "code",
   "execution_count": 193,
   "metadata": {
    "id": "lM3j1UcGirlY"
   },
   "outputs": [],
   "source": [
    "data = pd.read_csv('/content/Car_Purchasing_Data_TP (1).csv', encoding = 'ISO-8859-1')"
   ]
  },
  {
   "cell_type": "code",
   "execution_count": 194,
   "metadata": {
    "colab": {
     "base_uri": "https://localhost:8080/"
    },
    "id": "vOeUjdGfBKKE",
    "outputId": "ba748c17-e6a7-4c96-881c-3083b753727e"
   },
   "outputs": [
    {
     "name": "stdout",
     "output_type": "stream",
     "text": [
      "Drive already mounted at /content/drive; to attempt to forcibly remount, call drive.mount(\"/content/drive\", force_remount=True).\n"
     ]
    }
   ],
   "source": [
    "from google.colab import drive\n",
    "drive.mount('/content/drive')"
   ]
  },
  {
   "cell_type": "code",
   "execution_count": 195,
   "metadata": {
    "colab": {
     "base_uri": "https://localhost:8080/",
     "height": 424
    },
    "id": "nJxxEpcEi3NF",
    "outputId": "62a48542-2db3-48eb-8884-2c05c773ecaa"
   },
   "outputs": [
    {
     "data": {
      "text/html": [
       "\n",
       "  <div id=\"df-6e181c6a-b152-4044-bc73-f57776c850a1\">\n",
       "    <div class=\"colab-df-container\">\n",
       "      <div>\n",
       "<style scoped>\n",
       "    .dataframe tbody tr th:only-of-type {\n",
       "        vertical-align: middle;\n",
       "    }\n",
       "\n",
       "    .dataframe tbody tr th {\n",
       "        vertical-align: top;\n",
       "    }\n",
       "\n",
       "    .dataframe thead th {\n",
       "        text-align: right;\n",
       "    }\n",
       "</style>\n",
       "<table border=\"1\" class=\"dataframe\">\n",
       "  <thead>\n",
       "    <tr style=\"text-align: right;\">\n",
       "      <th></th>\n",
       "      <th>Customer Name</th>\n",
       "      <th>Customer e-mail</th>\n",
       "      <th>Country</th>\n",
       "      <th>Gender</th>\n",
       "      <th>Age</th>\n",
       "      <th>Annual Salary</th>\n",
       "      <th>Credit Card Debt</th>\n",
       "      <th>Net Worth</th>\n",
       "      <th>Car Purchase Amount</th>\n",
       "    </tr>\n",
       "  </thead>\n",
       "  <tbody>\n",
       "    <tr>\n",
       "      <th>0</th>\n",
       "      <td>Martina Avila</td>\n",
       "      <td>cubilia.Curae.Phasellus@quisaccumsanconvallis.edu</td>\n",
       "      <td>Bulgaria</td>\n",
       "      <td>0.0</td>\n",
       "      <td>41.851720</td>\n",
       "      <td>62812.09301</td>\n",
       "      <td>11609.380910</td>\n",
       "      <td>238961.2505</td>\n",
       "      <td>35321.45877</td>\n",
       "    </tr>\n",
       "    <tr>\n",
       "      <th>1</th>\n",
       "      <td>Harlan Barnes</td>\n",
       "      <td>eu.dolor@diam.co.uk</td>\n",
       "      <td>Belize</td>\n",
       "      <td>0.0</td>\n",
       "      <td>40.870623</td>\n",
       "      <td>66646.89292</td>\n",
       "      <td>9572.957136</td>\n",
       "      <td>530973.9078</td>\n",
       "      <td>45115.52566</td>\n",
       "    </tr>\n",
       "    <tr>\n",
       "      <th>2</th>\n",
       "      <td>Naomi Rodriquez</td>\n",
       "      <td>vulputate.mauris.sagittis@ametconsectetueradip...</td>\n",
       "      <td>Algeria</td>\n",
       "      <td>1.0</td>\n",
       "      <td>43.152897</td>\n",
       "      <td>53798.55112</td>\n",
       "      <td>11160.355060</td>\n",
       "      <td>638467.1773</td>\n",
       "      <td>42925.70921</td>\n",
       "    </tr>\n",
       "    <tr>\n",
       "      <th>3</th>\n",
       "      <td>Jade Cunningham</td>\n",
       "      <td>malesuada@dignissim.com</td>\n",
       "      <td>Cook Islands</td>\n",
       "      <td>1.0</td>\n",
       "      <td>58.271369</td>\n",
       "      <td>79370.03798</td>\n",
       "      <td>14426.164850</td>\n",
       "      <td>548599.0524</td>\n",
       "      <td>67422.36313</td>\n",
       "    </tr>\n",
       "    <tr>\n",
       "      <th>4</th>\n",
       "      <td>Cedric Leach</td>\n",
       "      <td>felis.ullamcorper.viverra@egetmollislectus.net</td>\n",
       "      <td>Brazil</td>\n",
       "      <td>1.0</td>\n",
       "      <td>NaN</td>\n",
       "      <td>59729.15130</td>\n",
       "      <td>NaN</td>\n",
       "      <td>560304.0671</td>\n",
       "      <td>55915.46248</td>\n",
       "    </tr>\n",
       "    <tr>\n",
       "      <th>...</th>\n",
       "      <td>...</td>\n",
       "      <td>...</td>\n",
       "      <td>...</td>\n",
       "      <td>...</td>\n",
       "      <td>...</td>\n",
       "      <td>...</td>\n",
       "      <td>...</td>\n",
       "      <td>...</td>\n",
       "      <td>...</td>\n",
       "    </tr>\n",
       "    <tr>\n",
       "      <th>495</th>\n",
       "      <td>Walter</td>\n",
       "      <td>ligula@Cumsociis.ca</td>\n",
       "      <td>Nepal</td>\n",
       "      <td>0.0</td>\n",
       "      <td>41.462515</td>\n",
       "      <td>71942.40291</td>\n",
       "      <td>6995.902524</td>\n",
       "      <td>541670.1016</td>\n",
       "      <td>48901.44342</td>\n",
       "    </tr>\n",
       "    <tr>\n",
       "      <th>496</th>\n",
       "      <td>Vanna</td>\n",
       "      <td>Cum.sociis.natoque@Sedmolestie.edu</td>\n",
       "      <td>Zimbabwe</td>\n",
       "      <td>1.0</td>\n",
       "      <td>37.642000</td>\n",
       "      <td>56039.49793</td>\n",
       "      <td>12301.456790</td>\n",
       "      <td>360419.0988</td>\n",
       "      <td>31491.41457</td>\n",
       "    </tr>\n",
       "    <tr>\n",
       "      <th>497</th>\n",
       "      <td>Pearl</td>\n",
       "      <td>penatibus.et@massanonante.com</td>\n",
       "      <td>Philippines</td>\n",
       "      <td>1.0</td>\n",
       "      <td>53.943497</td>\n",
       "      <td>68888.77805</td>\n",
       "      <td>10611.606860</td>\n",
       "      <td>764531.3203</td>\n",
       "      <td>64147.28888</td>\n",
       "    </tr>\n",
       "    <tr>\n",
       "      <th>498</th>\n",
       "      <td>Nell</td>\n",
       "      <td>Quisque.varius@arcuVivamussit.net</td>\n",
       "      <td>Botswana</td>\n",
       "      <td>1.0</td>\n",
       "      <td>59.160509</td>\n",
       "      <td>49811.99062</td>\n",
       "      <td>14013.034510</td>\n",
       "      <td>337826.6382</td>\n",
       "      <td>45442.15353</td>\n",
       "    </tr>\n",
       "    <tr>\n",
       "      <th>499</th>\n",
       "      <td>Marla</td>\n",
       "      <td>Camaron.marla@hotmail.com</td>\n",
       "      <td>marlal</td>\n",
       "      <td>1.0</td>\n",
       "      <td>46.731152</td>\n",
       "      <td>61370.67766</td>\n",
       "      <td>9391.341628</td>\n",
       "      <td>462946.4924</td>\n",
       "      <td>45107.22566</td>\n",
       "    </tr>\n",
       "  </tbody>\n",
       "</table>\n",
       "<p>500 rows × 9 columns</p>\n",
       "</div>\n",
       "      <button class=\"colab-df-convert\" onclick=\"convertToInteractive('df-6e181c6a-b152-4044-bc73-f57776c850a1')\"\n",
       "              title=\"Convert this dataframe to an interactive table.\"\n",
       "              style=\"display:none;\">\n",
       "        \n",
       "  <svg xmlns=\"http://www.w3.org/2000/svg\" height=\"24px\"viewBox=\"0 0 24 24\"\n",
       "       width=\"24px\">\n",
       "    <path d=\"M0 0h24v24H0V0z\" fill=\"none\"/>\n",
       "    <path d=\"M18.56 5.44l.94 2.06.94-2.06 2.06-.94-2.06-.94-.94-2.06-.94 2.06-2.06.94zm-11 1L8.5 8.5l.94-2.06 2.06-.94-2.06-.94L8.5 2.5l-.94 2.06-2.06.94zm10 10l.94 2.06.94-2.06 2.06-.94-2.06-.94-.94-2.06-.94 2.06-2.06.94z\"/><path d=\"M17.41 7.96l-1.37-1.37c-.4-.4-.92-.59-1.43-.59-.52 0-1.04.2-1.43.59L10.3 9.45l-7.72 7.72c-.78.78-.78 2.05 0 2.83L4 21.41c.39.39.9.59 1.41.59.51 0 1.02-.2 1.41-.59l7.78-7.78 2.81-2.81c.8-.78.8-2.07 0-2.86zM5.41 20L4 18.59l7.72-7.72 1.47 1.35L5.41 20z\"/>\n",
       "  </svg>\n",
       "      </button>\n",
       "      \n",
       "  <style>\n",
       "    .colab-df-container {\n",
       "      display:flex;\n",
       "      flex-wrap:wrap;\n",
       "      gap: 12px;\n",
       "    }\n",
       "\n",
       "    .colab-df-convert {\n",
       "      background-color: #E8F0FE;\n",
       "      border: none;\n",
       "      border-radius: 50%;\n",
       "      cursor: pointer;\n",
       "      display: none;\n",
       "      fill: #1967D2;\n",
       "      height: 32px;\n",
       "      padding: 0 0 0 0;\n",
       "      width: 32px;\n",
       "    }\n",
       "\n",
       "    .colab-df-convert:hover {\n",
       "      background-color: #E2EBFA;\n",
       "      box-shadow: 0px 1px 2px rgba(60, 64, 67, 0.3), 0px 1px 3px 1px rgba(60, 64, 67, 0.15);\n",
       "      fill: #174EA6;\n",
       "    }\n",
       "\n",
       "    [theme=dark] .colab-df-convert {\n",
       "      background-color: #3B4455;\n",
       "      fill: #D2E3FC;\n",
       "    }\n",
       "\n",
       "    [theme=dark] .colab-df-convert:hover {\n",
       "      background-color: #434B5C;\n",
       "      box-shadow: 0px 1px 3px 1px rgba(0, 0, 0, 0.15);\n",
       "      filter: drop-shadow(0px 1px 2px rgba(0, 0, 0, 0.3));\n",
       "      fill: #FFFFFF;\n",
       "    }\n",
       "  </style>\n",
       "\n",
       "      <script>\n",
       "        const buttonEl =\n",
       "          document.querySelector('#df-6e181c6a-b152-4044-bc73-f57776c850a1 button.colab-df-convert');\n",
       "        buttonEl.style.display =\n",
       "          google.colab.kernel.accessAllowed ? 'block' : 'none';\n",
       "\n",
       "        async function convertToInteractive(key) {\n",
       "          const element = document.querySelector('#df-6e181c6a-b152-4044-bc73-f57776c850a1');\n",
       "          const dataTable =\n",
       "            await google.colab.kernel.invokeFunction('convertToInteractive',\n",
       "                                                     [key], {});\n",
       "          if (!dataTable) return;\n",
       "\n",
       "          const docLinkHtml = 'Like what you see? Visit the ' +\n",
       "            '<a target=\"_blank\" href=https://colab.research.google.com/notebooks/data_table.ipynb>data table notebook</a>'\n",
       "            + ' to learn more about interactive tables.';\n",
       "          element.innerHTML = '';\n",
       "          dataTable['output_type'] = 'display_data';\n",
       "          await google.colab.output.renderOutput(dataTable, element);\n",
       "          const docLink = document.createElement('div');\n",
       "          docLink.innerHTML = docLinkHtml;\n",
       "          element.appendChild(docLink);\n",
       "        }\n",
       "      </script>\n",
       "    </div>\n",
       "  </div>\n",
       "  "
      ],
      "text/plain": [
       "       Customer Name                                    Customer e-mail  \\\n",
       "0      Martina Avila  cubilia.Curae.Phasellus@quisaccumsanconvallis.edu   \n",
       "1      Harlan Barnes                                eu.dolor@diam.co.uk   \n",
       "2    Naomi Rodriquez  vulputate.mauris.sagittis@ametconsectetueradip...   \n",
       "3    Jade Cunningham                            malesuada@dignissim.com   \n",
       "4       Cedric Leach     felis.ullamcorper.viverra@egetmollislectus.net   \n",
       "..               ...                                                ...   \n",
       "495           Walter                                ligula@Cumsociis.ca   \n",
       "496            Vanna                 Cum.sociis.natoque@Sedmolestie.edu   \n",
       "497            Pearl                      penatibus.et@massanonante.com   \n",
       "498             Nell                  Quisque.varius@arcuVivamussit.net   \n",
       "499            Marla                          Camaron.marla@hotmail.com   \n",
       "\n",
       "          Country  Gender        Age  Annual Salary  Credit Card Debt  \\\n",
       "0        Bulgaria     0.0  41.851720    62812.09301      11609.380910   \n",
       "1          Belize     0.0  40.870623    66646.89292       9572.957136   \n",
       "2         Algeria     1.0  43.152897    53798.55112      11160.355060   \n",
       "3    Cook Islands     1.0  58.271369    79370.03798      14426.164850   \n",
       "4          Brazil     1.0        NaN    59729.15130               NaN   \n",
       "..            ...     ...        ...            ...               ...   \n",
       "495         Nepal     0.0  41.462515    71942.40291       6995.902524   \n",
       "496      Zimbabwe     1.0  37.642000    56039.49793      12301.456790   \n",
       "497   Philippines     1.0  53.943497    68888.77805      10611.606860   \n",
       "498      Botswana     1.0  59.160509    49811.99062      14013.034510   \n",
       "499        marlal     1.0  46.731152    61370.67766       9391.341628   \n",
       "\n",
       "       Net Worth  Car Purchase Amount  \n",
       "0    238961.2505          35321.45877  \n",
       "1    530973.9078          45115.52566  \n",
       "2    638467.1773          42925.70921  \n",
       "3    548599.0524          67422.36313  \n",
       "4    560304.0671          55915.46248  \n",
       "..           ...                  ...  \n",
       "495  541670.1016          48901.44342  \n",
       "496  360419.0988          31491.41457  \n",
       "497  764531.3203          64147.28888  \n",
       "498  337826.6382          45442.15353  \n",
       "499  462946.4924          45107.22566  \n",
       "\n",
       "[500 rows x 9 columns]"
      ]
     },
     "execution_count": 195,
     "metadata": {},
     "output_type": "execute_result"
    }
   ],
   "source": [
    "data"
   ]
  },
  {
   "cell_type": "code",
   "execution_count": 196,
   "metadata": {
    "colab": {
     "base_uri": "https://localhost:8080/",
     "height": 1000
    },
    "id": "3yp5ZG8hB8LP",
    "outputId": "acdf6d41-5686-41b9-e8a8-132860c3fcc9"
   },
   "outputs": [
    {
     "data": {
      "text/plain": [
       "<seaborn.axisgrid.PairGrid at 0x7fe0b3292d60>"
      ]
     },
     "execution_count": 196,
     "metadata": {},
     "output_type": "execute_result"
    },
    {
     "data": {
      "image/png": "[encoded data removed]",
      "text/plain": [
       "<Figure size 1080x1080 with 42 Axes>"
      ]
     },
     "metadata": {
      "needs_background": "light"
     },
     "output_type": "display_data"
    }
   ],
   "source": [
    "sns.pairplot(data)"
   ]
  },
  {
   "cell_type": "code",
   "execution_count": 197,
   "metadata": {
    "colab": {
     "base_uri": "https://localhost:8080/"
    },
    "id": "TQIBkhcEDmJ5",
    "outputId": "51422451-c673-4687-a540-9dae94fe4569"
   },
   "outputs": [
    {
     "name": "stdout",
     "output_type": "stream",
     "text": [
      "Customer Name 0.016\n",
      "Customer e-mail 0.03\n",
      "Country 0.018\n",
      "Gender 0.036\n",
      "Age 0.026\n",
      "Annual Salary 0.022\n",
      "Credit Card Debt 0.036\n",
      "Net Worth 0.032\n"
     ]
    }
   ],
   "source": [
    "for var in data.columns:\n",
    "    if data[var].isnull().sum() > 0:\n",
    "        print(var, data[var].isnull().mean())"
   ]
  },
  {
   "cell_type": "code",
   "execution_count": 198,
   "metadata": {
    "colab": {
     "base_uri": "https://localhost:8080/"
    },
    "id": "uyt6w5EpwPhY",
    "outputId": "eefc4f70-9876-4cdc-b9a1-eadad4f2eb85"
   },
   "outputs": [
    {
     "data": {
      "text/plain": [
       "['Customer Name', 'Customer e-mail', 'Country']"
      ]
     },
     "execution_count": 198,
     "metadata": {},
     "output_type": "execute_result"
    }
   ],
   "source": [
    "categorical = [x for x in data.columns if data[x].dtype == 'O']\n",
    "categorical"
   ]
  },
  {
   "cell_type": "code",
   "execution_count": 199,
   "metadata": {
    "colab": {
     "base_uri": "https://localhost:8080/",
     "height": 424
    },
    "id": "gOkx_bvnwPqT",
    "outputId": "f468fc25-8483-4cb5-8719-460c5f3e7507"
   },
   "outputs": [
    {
     "data": {
      "text/html": [
       "\n",
       "  <div id=\"df-6bfda0c5-73be-4980-822c-0657bf474c4d\">\n",
       "    <div class=\"colab-df-container\">\n",
       "      <div>\n",
       "<style scoped>\n",
       "    .dataframe tbody tr th:only-of-type {\n",
       "        vertical-align: middle;\n",
       "    }\n",
       "\n",
       "    .dataframe tbody tr th {\n",
       "        vertical-align: top;\n",
       "    }\n",
       "\n",
       "    .dataframe thead th {\n",
       "        text-align: right;\n",
       "    }\n",
       "</style>\n",
       "<table border=\"1\" class=\"dataframe\">\n",
       "  <thead>\n",
       "    <tr style=\"text-align: right;\">\n",
       "      <th></th>\n",
       "      <th>Gender</th>\n",
       "      <th>Age</th>\n",
       "      <th>Annual Salary</th>\n",
       "      <th>Credit Card Debt</th>\n",
       "      <th>Net Worth</th>\n",
       "    </tr>\n",
       "  </thead>\n",
       "  <tbody>\n",
       "    <tr>\n",
       "      <th>0</th>\n",
       "      <td>0.0</td>\n",
       "      <td>41.851720</td>\n",
       "      <td>62812.09301</td>\n",
       "      <td>11609.380910</td>\n",
       "      <td>238961.2505</td>\n",
       "    </tr>\n",
       "    <tr>\n",
       "      <th>1</th>\n",
       "      <td>0.0</td>\n",
       "      <td>40.870623</td>\n",
       "      <td>66646.89292</td>\n",
       "      <td>9572.957136</td>\n",
       "      <td>530973.9078</td>\n",
       "    </tr>\n",
       "    <tr>\n",
       "      <th>2</th>\n",
       "      <td>1.0</td>\n",
       "      <td>43.152897</td>\n",
       "      <td>53798.55112</td>\n",
       "      <td>11160.355060</td>\n",
       "      <td>638467.1773</td>\n",
       "    </tr>\n",
       "    <tr>\n",
       "      <th>3</th>\n",
       "      <td>1.0</td>\n",
       "      <td>58.271369</td>\n",
       "      <td>79370.03798</td>\n",
       "      <td>14426.164850</td>\n",
       "      <td>548599.0524</td>\n",
       "    </tr>\n",
       "    <tr>\n",
       "      <th>4</th>\n",
       "      <td>1.0</td>\n",
       "      <td>NaN</td>\n",
       "      <td>59729.15130</td>\n",
       "      <td>NaN</td>\n",
       "      <td>560304.0671</td>\n",
       "    </tr>\n",
       "    <tr>\n",
       "      <th>...</th>\n",
       "      <td>...</td>\n",
       "      <td>...</td>\n",
       "      <td>...</td>\n",
       "      <td>...</td>\n",
       "      <td>...</td>\n",
       "    </tr>\n",
       "    <tr>\n",
       "      <th>495</th>\n",
       "      <td>0.0</td>\n",
       "      <td>41.462515</td>\n",
       "      <td>71942.40291</td>\n",
       "      <td>6995.902524</td>\n",
       "      <td>541670.1016</td>\n",
       "    </tr>\n",
       "    <tr>\n",
       "      <th>496</th>\n",
       "      <td>1.0</td>\n",
       "      <td>37.642000</td>\n",
       "      <td>56039.49793</td>\n",
       "      <td>12301.456790</td>\n",
       "      <td>360419.0988</td>\n",
       "    </tr>\n",
       "    <tr>\n",
       "      <th>497</th>\n",
       "      <td>1.0</td>\n",
       "      <td>53.943497</td>\n",
       "      <td>68888.77805</td>\n",
       "      <td>10611.606860</td>\n",
       "      <td>764531.3203</td>\n",
       "    </tr>\n",
       "    <tr>\n",
       "      <th>498</th>\n",
       "      <td>1.0</td>\n",
       "      <td>59.160509</td>\n",
       "      <td>49811.99062</td>\n",
       "      <td>14013.034510</td>\n",
       "      <td>337826.6382</td>\n",
       "    </tr>\n",
       "    <tr>\n",
       "      <th>499</th>\n",
       "      <td>1.0</td>\n",
       "      <td>46.731152</td>\n",
       "      <td>61370.67766</td>\n",
       "      <td>9391.341628</td>\n",
       "      <td>462946.4924</td>\n",
       "    </tr>\n",
       "  </tbody>\n",
       "</table>\n",
       "<p>500 rows × 5 columns</p>\n",
       "</div>\n",
       "      <button class=\"colab-df-convert\" onclick=\"convertToInteractive('df-6bfda0c5-73be-4980-822c-0657bf474c4d')\"\n",
       "              title=\"Convert this dataframe to an interactive table.\"\n",
       "              style=\"display:none;\">\n",
       "        \n",
       "  <svg xmlns=\"http://www.w3.org/2000/svg\" height=\"24px\"viewBox=\"0 0 24 24\"\n",
       "       width=\"24px\">\n",
       "    <path d=\"M0 0h24v24H0V0z\" fill=\"none\"/>\n",
       "    <path d=\"M18.56 5.44l.94 2.06.94-2.06 2.06-.94-2.06-.94-.94-2.06-.94 2.06-2.06.94zm-11 1L8.5 8.5l.94-2.06 2.06-.94-2.06-.94L8.5 2.5l-.94 2.06-2.06.94zm10 10l.94 2.06.94-2.06 2.06-.94-2.06-.94-.94-2.06-.94 2.06-2.06.94z\"/><path d=\"M17.41 7.96l-1.37-1.37c-.4-.4-.92-.59-1.43-.59-.52 0-1.04.2-1.43.59L10.3 9.45l-7.72 7.72c-.78.78-.78 2.05 0 2.83L4 21.41c.39.39.9.59 1.41.59.51 0 1.02-.2 1.41-.59l7.78-7.78 2.81-2.81c.8-.78.8-2.07 0-2.86zM5.41 20L4 18.59l7.72-7.72 1.47 1.35L5.41 20z\"/>\n",
       "  </svg>\n",
       "      </button>\n",
       "      \n",
       "  <style>\n",
       "    .colab-df-container {\n",
       "      display:flex;\n",
       "      flex-wrap:wrap;\n",
       "      gap: 12px;\n",
       "    }\n",
       "\n",
       "    .colab-df-convert {\n",
       "      background-color: #E8F0FE;\n",
       "      border: none;\n",
       "      border-radius: 50%;\n",
       "      cursor: pointer;\n",
       "      display: none;\n",
       "      fill: #1967D2;\n",
       "      height: 32px;\n",
       "      padding: 0 0 0 0;\n",
       "      width: 32px;\n",
       "    }\n",
       "\n",
       "    .colab-df-convert:hover {\n",
       "      background-color: #E2EBFA;\n",
       "      box-shadow: 0px 1px 2px rgba(60, 64, 67, 0.3), 0px 1px 3px 1px rgba(60, 64, 67, 0.15);\n",
       "      fill: #174EA6;\n",
       "    }\n",
       "\n",
       "    [theme=dark] .colab-df-convert {\n",
       "      background-color: #3B4455;\n",
       "      fill: #D2E3FC;\n",
       "    }\n",
       "\n",
       "    [theme=dark] .colab-df-convert:hover {\n",
       "      background-color: #434B5C;\n",
       "      box-shadow: 0px 1px 3px 1px rgba(0, 0, 0, 0.15);\n",
       "      filter: drop-shadow(0px 1px 2px rgba(0, 0, 0, 0.3));\n",
       "      fill: #FFFFFF;\n",
       "    }\n",
       "  </style>\n",
       "\n",
       "      <script>\n",
       "        const buttonEl =\n",
       "          document.querySelector('#df-6bfda0c5-73be-4980-822c-0657bf474c4d button.colab-df-convert');\n",
       "        buttonEl.style.display =\n",
       "          google.colab.kernel.accessAllowed ? 'block' : 'none';\n",
       "\n",
       "        async function convertToInteractive(key) {\n",
       "          const element = document.querySelector('#df-6bfda0c5-73be-4980-822c-0657bf474c4d');\n",
       "          const dataTable =\n",
       "            await google.colab.kernel.invokeFunction('convertToInteractive',\n",
       "                                                     [key], {});\n",
       "          if (!dataTable) return;\n",
       "\n",
       "          const docLinkHtml = 'Like what you see? Visit the ' +\n",
       "            '<a target=\"_blank\" href=https://colab.research.google.com/notebooks/data_table.ipynb>data table notebook</a>'\n",
       "            + ' to learn more about interactive tables.';\n",
       "          element.innerHTML = '';\n",
       "          dataTable['output_type'] = 'display_data';\n",
       "          await google.colab.output.renderOutput(dataTable, element);\n",
       "          const docLink = document.createElement('div');\n",
       "          docLink.innerHTML = docLinkHtml;\n",
       "          element.appendChild(docLink);\n",
       "        }\n",
       "      </script>\n",
       "    </div>\n",
       "  </div>\n",
       "  "
      ],
      "text/plain": [
       "     Gender        Age  Annual Salary  Credit Card Debt    Net Worth\n",
       "0       0.0  41.851720    62812.09301      11609.380910  238961.2505\n",
       "1       0.0  40.870623    66646.89292       9572.957136  530973.9078\n",
       "2       1.0  43.152897    53798.55112      11160.355060  638467.1773\n",
       "3       1.0  58.271369    79370.03798      14426.164850  548599.0524\n",
       "4       1.0        NaN    59729.15130               NaN  560304.0671\n",
       "..      ...        ...            ...               ...          ...\n",
       "495     0.0  41.462515    71942.40291       6995.902524  541670.1016\n",
       "496     1.0  37.642000    56039.49793      12301.456790  360419.0988\n",
       "497     1.0  53.943497    68888.77805      10611.606860  764531.3203\n",
       "498     1.0  59.160509    49811.99062      14013.034510  337826.6382\n",
       "499     1.0  46.731152    61370.67766       9391.341628  462946.4924\n",
       "\n",
       "[500 rows x 5 columns]"
      ]
     },
     "execution_count": 199,
     "metadata": {},
     "output_type": "execute_result"
    }
   ],
   "source": [
    "numerical = [x for x in data.columns if data[x].dtype != 'O']\n",
    "\n",
    "numerical.remove('Car Purchase Amount')\n",
    "numerical = data[numerical]\n",
    "numerical"
   ]
  },
  {
   "cell_type": "code",
   "execution_count": 200,
   "metadata": {
    "colab": {
     "base_uri": "https://localhost:8080/"
    },
    "id": "qJmK-UnxvMuq",
    "outputId": "41984d9b-fc39-4d77-9e09-caeef769d2be"
   },
   "outputs": [
    {
     "data": {
      "text/plain": [
       "((450, 5), (50, 5))"
      ]
     },
     "execution_count": 200,
     "metadata": {},
     "output_type": "execute_result"
    }
   ],
   "source": [
    "X_train, X_test, y_train, y_test =train_test_split(data.drop(['Customer Name', 'Customer e-mail', 'Country', 'Car Purchase Amount'], axis =1),\n",
    "                                                  data['Car Purchase Amount'],\n",
    "                                                  test_size= 0.1,\n",
    "                                                  random_state=0)\n",
    "X_train.shape, X_test.shape"
   ]
  },
  {
   "cell_type": "code",
   "execution_count": 201,
   "metadata": {
    "colab": {
     "base_uri": "https://localhost:8080/",
     "height": 424
    },
    "id": "hE3KFbYzDCyP",
    "outputId": "5ead76cb-28e6-499c-fb2e-137df7fbc6a9"
   },
   "outputs": [
    {
     "data": {
      "text/html": [
       "\n",
       "  <div id=\"df-aa2ed9f8-8dec-4a4c-a948-cce5fbebbbfa\">\n",
       "    <div class=\"colab-df-container\">\n",
       "      <div>\n",
       "<style scoped>\n",
       "    .dataframe tbody tr th:only-of-type {\n",
       "        vertical-align: middle;\n",
       "    }\n",
       "\n",
       "    .dataframe tbody tr th {\n",
       "        vertical-align: top;\n",
       "    }\n",
       "\n",
       "    .dataframe thead th {\n",
       "        text-align: right;\n",
       "    }\n",
       "</style>\n",
       "<table border=\"1\" class=\"dataframe\">\n",
       "  <thead>\n",
       "    <tr style=\"text-align: right;\">\n",
       "      <th></th>\n",
       "      <th>Gender</th>\n",
       "      <th>Age</th>\n",
       "      <th>Annual Salary</th>\n",
       "      <th>Credit Card Debt</th>\n",
       "      <th>Net Worth</th>\n",
       "    </tr>\n",
       "  </thead>\n",
       "  <tbody>\n",
       "    <tr>\n",
       "      <th>363</th>\n",
       "      <td>1.0</td>\n",
       "      <td>31.896223</td>\n",
       "      <td>60384.34541</td>\n",
       "      <td>11518.291750</td>\n",
       "      <td>589180.4485</td>\n",
       "    </tr>\n",
       "    <tr>\n",
       "      <th>170</th>\n",
       "      <td>1.0</td>\n",
       "      <td>42.432012</td>\n",
       "      <td>65714.46469</td>\n",
       "      <td>12557.081330</td>\n",
       "      <td>362707.0273</td>\n",
       "    </tr>\n",
       "    <tr>\n",
       "      <th>343</th>\n",
       "      <td>0.0</td>\n",
       "      <td>43.705397</td>\n",
       "      <td>70136.82862</td>\n",
       "      <td>7765.975483</td>\n",
       "      <td>555993.1081</td>\n",
       "    </tr>\n",
       "    <tr>\n",
       "      <th>144</th>\n",
       "      <td>0.0</td>\n",
       "      <td>57.458598</td>\n",
       "      <td>68090.50870</td>\n",
       "      <td>6181.970908</td>\n",
       "      <td>316064.0338</td>\n",
       "    </tr>\n",
       "    <tr>\n",
       "      <th>132</th>\n",
       "      <td>0.0</td>\n",
       "      <td>45.402441</td>\n",
       "      <td>63729.12568</td>\n",
       "      <td>12507.197360</td>\n",
       "      <td>271430.0543</td>\n",
       "    </tr>\n",
       "    <tr>\n",
       "      <th>...</th>\n",
       "      <td>...</td>\n",
       "      <td>...</td>\n",
       "      <td>...</td>\n",
       "      <td>...</td>\n",
       "      <td>...</td>\n",
       "    </tr>\n",
       "    <tr>\n",
       "      <th>323</th>\n",
       "      <td>0.0</td>\n",
       "      <td>33.811252</td>\n",
       "      <td>49607.23466</td>\n",
       "      <td>9344.323770</td>\n",
       "      <td>290711.8670</td>\n",
       "    </tr>\n",
       "    <tr>\n",
       "      <th>192</th>\n",
       "      <td>0.0</td>\n",
       "      <td>38.551020</td>\n",
       "      <td>69248.49530</td>\n",
       "      <td>6445.784981</td>\n",
       "      <td>298246.0609</td>\n",
       "    </tr>\n",
       "    <tr>\n",
       "      <th>117</th>\n",
       "      <td>0.0</td>\n",
       "      <td>34.681961</td>\n",
       "      <td>NaN</td>\n",
       "      <td>12719.644150</td>\n",
       "      <td>244310.5736</td>\n",
       "    </tr>\n",
       "    <tr>\n",
       "      <th>47</th>\n",
       "      <td>0.0</td>\n",
       "      <td>51.168139</td>\n",
       "      <td>57478.37922</td>\n",
       "      <td>2230.096344</td>\n",
       "      <td>158979.7102</td>\n",
       "    </tr>\n",
       "    <tr>\n",
       "      <th>172</th>\n",
       "      <td>0.0</td>\n",
       "      <td>40.142348</td>\n",
       "      <td>71148.20248</td>\n",
       "      <td>7917.650970</td>\n",
       "      <td>416817.4673</td>\n",
       "    </tr>\n",
       "  </tbody>\n",
       "</table>\n",
       "<p>450 rows × 5 columns</p>\n",
       "</div>\n",
       "      <button class=\"colab-df-convert\" onclick=\"convertToInteractive('df-aa2ed9f8-8dec-4a4c-a948-cce5fbebbbfa')\"\n",
       "              title=\"Convert this dataframe to an interactive table.\"\n",
       "              style=\"display:none;\">\n",
       "        \n",
       "  <svg xmlns=\"http://www.w3.org/2000/svg\" height=\"24px\"viewBox=\"0 0 24 24\"\n",
       "       width=\"24px\">\n",
       "    <path d=\"M0 0h24v24H0V0z\" fill=\"none\"/>\n",
       "    <path d=\"M18.56 5.44l.94 2.06.94-2.06 2.06-.94-2.06-.94-.94-2.06-.94 2.06-2.06.94zm-11 1L8.5 8.5l.94-2.06 2.06-.94-2.06-.94L8.5 2.5l-.94 2.06-2.06.94zm10 10l.94 2.06.94-2.06 2.06-.94-2.06-.94-.94-2.06-.94 2.06-2.06.94z\"/><path d=\"M17.41 7.96l-1.37-1.37c-.4-.4-.92-.59-1.43-.59-.52 0-1.04.2-1.43.59L10.3 9.45l-7.72 7.72c-.78.78-.78 2.05 0 2.83L4 21.41c.39.39.9.59 1.41.59.51 0 1.02-.2 1.41-.59l7.78-7.78 2.81-2.81c.8-.78.8-2.07 0-2.86zM5.41 20L4 18.59l7.72-7.72 1.47 1.35L5.41 20z\"/>\n",
       "  </svg>\n",
       "      </button>\n",
       "      \n",
       "  <style>\n",
       "    .colab-df-container {\n",
       "      display:flex;\n",
       "      flex-wrap:wrap;\n",
       "      gap: 12px;\n",
       "    }\n",
       "\n",
       "    .colab-df-convert {\n",
       "      background-color: #E8F0FE;\n",
       "      border: none;\n",
       "      border-radius: 50%;\n",
       "      cursor: pointer;\n",
       "      display: none;\n",
       "      fill: #1967D2;\n",
       "      height: 32px;\n",
       "      padding: 0 0 0 0;\n",
       "      width: 32px;\n",
       "    }\n",
       "\n",
       "    .colab-df-convert:hover {\n",
       "      background-color: #E2EBFA;\n",
       "      box-shadow: 0px 1px 2px rgba(60, 64, 67, 0.3), 0px 1px 3px 1px rgba(60, 64, 67, 0.15);\n",
       "      fill: #174EA6;\n",
       "    }\n",
       "\n",
       "    [theme=dark] .colab-df-convert {\n",
       "      background-color: #3B4455;\n",
       "      fill: #D2E3FC;\n",
       "    }\n",
       "\n",
       "    [theme=dark] .colab-df-convert:hover {\n",
       "      background-color: #434B5C;\n",
       "      box-shadow: 0px 1px 3px 1px rgba(0, 0, 0, 0.15);\n",
       "      filter: drop-shadow(0px 1px 2px rgba(0, 0, 0, 0.3));\n",
       "      fill: #FFFFFF;\n",
       "    }\n",
       "  </style>\n",
       "\n",
       "      <script>\n",
       "        const buttonEl =\n",
       "          document.querySelector('#df-aa2ed9f8-8dec-4a4c-a948-cce5fbebbbfa button.colab-df-convert');\n",
       "        buttonEl.style.display =\n",
       "          google.colab.kernel.accessAllowed ? 'block' : 'none';\n",
       "\n",
       "        async function convertToInteractive(key) {\n",
       "          const element = document.querySelector('#df-aa2ed9f8-8dec-4a4c-a948-cce5fbebbbfa');\n",
       "          const dataTable =\n",
       "            await google.colab.kernel.invokeFunction('convertToInteractive',\n",
       "                                                     [key], {});\n",
       "          if (!dataTable) return;\n",
       "\n",
       "          const docLinkHtml = 'Like what you see? Visit the ' +\n",
       "            '<a target=\"_blank\" href=https://colab.research.google.com/notebooks/data_table.ipynb>data table notebook</a>'\n",
       "            + ' to learn more about interactive tables.';\n",
       "          element.innerHTML = '';\n",
       "          dataTable['output_type'] = 'display_data';\n",
       "          await google.colab.output.renderOutput(dataTable, element);\n",
       "          const docLink = document.createElement('div');\n",
       "          docLink.innerHTML = docLinkHtml;\n",
       "          element.appendChild(docLink);\n",
       "        }\n",
       "      </script>\n",
       "    </div>\n",
       "  </div>\n",
       "  "
      ],
      "text/plain": [
       "     Gender        Age  Annual Salary  Credit Card Debt    Net Worth\n",
       "363     1.0  31.896223    60384.34541      11518.291750  589180.4485\n",
       "170     1.0  42.432012    65714.46469      12557.081330  362707.0273\n",
       "343     0.0  43.705397    70136.82862       7765.975483  555993.1081\n",
       "144     0.0  57.458598    68090.50870       6181.970908  316064.0338\n",
       "132     0.0  45.402441    63729.12568      12507.197360  271430.0543\n",
       "..      ...        ...            ...               ...          ...\n",
       "323     0.0  33.811252    49607.23466       9344.323770  290711.8670\n",
       "192     0.0  38.551020    69248.49530       6445.784981  298246.0609\n",
       "117     0.0  34.681961            NaN      12719.644150  244310.5736\n",
       "47      0.0  51.168139    57478.37922       2230.096344  158979.7102\n",
       "172     0.0  40.142348    71148.20248       7917.650970  416817.4673\n",
       "\n",
       "[450 rows x 5 columns]"
      ]
     },
     "execution_count": 201,
     "metadata": {},
     "output_type": "execute_result"
    }
   ],
   "source": [
    "X_train"
   ]
  },
  {
   "cell_type": "code",
   "execution_count": 202,
   "metadata": {
    "colab": {
     "base_uri": "https://localhost:8080/",
     "height": 1000
    },
    "id": "4jh2Gt_ODFeX",
    "outputId": "7c366414-f9b4-4a91-bbe1-9058692b793b"
   },
   "outputs": [
    {
     "data": {
      "text/html": [
       "\n",
       "  <div id=\"df-c8dc2e65-758a-4f11-b67b-5396ab73a9ce\">\n",
       "    <div class=\"colab-df-container\">\n",
       "      <div>\n",
       "<style scoped>\n",
       "    .dataframe tbody tr th:only-of-type {\n",
       "        vertical-align: middle;\n",
       "    }\n",
       "\n",
       "    .dataframe tbody tr th {\n",
       "        vertical-align: top;\n",
       "    }\n",
       "\n",
       "    .dataframe thead th {\n",
       "        text-align: right;\n",
       "    }\n",
       "</style>\n",
       "<table border=\"1\" class=\"dataframe\">\n",
       "  <thead>\n",
       "    <tr style=\"text-align: right;\">\n",
       "      <th></th>\n",
       "      <th>Gender</th>\n",
       "      <th>Age</th>\n",
       "      <th>Annual Salary</th>\n",
       "      <th>Credit Card Debt</th>\n",
       "      <th>Net Worth</th>\n",
       "    </tr>\n",
       "  </thead>\n",
       "  <tbody>\n",
       "    <tr>\n",
       "      <th>90</th>\n",
       "      <td>1.0</td>\n",
       "      <td>49.956014</td>\n",
       "      <td>NaN</td>\n",
       "      <td>8244.470226</td>\n",
       "      <td>173079.1798</td>\n",
       "    </tr>\n",
       "    <tr>\n",
       "      <th>254</th>\n",
       "      <td>0.0</td>\n",
       "      <td>45.260364</td>\n",
       "      <td>68499.69447</td>\n",
       "      <td>15436.799680</td>\n",
       "      <td>308445.8598</td>\n",
       "    </tr>\n",
       "    <tr>\n",
       "      <th>283</th>\n",
       "      <td>1.0</td>\n",
       "      <td>40.875375</td>\n",
       "      <td>59060.08664</td>\n",
       "      <td>5841.612044</td>\n",
       "      <td>136346.3069</td>\n",
       "    </tr>\n",
       "    <tr>\n",
       "      <th>445</th>\n",
       "      <td>0.0</td>\n",
       "      <td>52.610045</td>\n",
       "      <td>76318.87883</td>\n",
       "      <td>6392.211408</td>\n",
       "      <td>245216.1691</td>\n",
       "    </tr>\n",
       "    <tr>\n",
       "      <th>461</th>\n",
       "      <td>1.0</td>\n",
       "      <td>38.545834</td>\n",
       "      <td>58632.58875</td>\n",
       "      <td>12035.370790</td>\n",
       "      <td>516817.3173</td>\n",
       "    </tr>\n",
       "    <tr>\n",
       "      <th>15</th>\n",
       "      <td>1.0</td>\n",
       "      <td>53.289768</td>\n",
       "      <td>64662.30061</td>\n",
       "      <td>11326.034340</td>\n",
       "      <td>481433.4324</td>\n",
       "    </tr>\n",
       "    <tr>\n",
       "      <th>316</th>\n",
       "      <td>0.0</td>\n",
       "      <td>46.520642</td>\n",
       "      <td>73502.12458</td>\n",
       "      <td>11132.392990</td>\n",
       "      <td>765711.6025</td>\n",
       "    </tr>\n",
       "    <tr>\n",
       "      <th>489</th>\n",
       "      <td>0.0</td>\n",
       "      <td>54.879545</td>\n",
       "      <td>64430.07398</td>\n",
       "      <td>6924.106833</td>\n",
       "      <td>664862.0102</td>\n",
       "    </tr>\n",
       "    <tr>\n",
       "      <th>159</th>\n",
       "      <td>0.0</td>\n",
       "      <td>55.989615</td>\n",
       "      <td>39488.45582</td>\n",
       "      <td>10992.333830</td>\n",
       "      <td>363561.1972</td>\n",
       "    </tr>\n",
       "    <tr>\n",
       "      <th>153</th>\n",
       "      <td>0.0</td>\n",
       "      <td>33.775269</td>\n",
       "      <td>55576.84068</td>\n",
       "      <td>9396.008371</td>\n",
       "      <td>475126.1252</td>\n",
       "    </tr>\n",
       "    <tr>\n",
       "      <th>241</th>\n",
       "      <td>1.0</td>\n",
       "      <td>48.045095</td>\n",
       "      <td>56118.39601</td>\n",
       "      <td>9242.775995</td>\n",
       "      <td>586717.4715</td>\n",
       "    </tr>\n",
       "    <tr>\n",
       "      <th>250</th>\n",
       "      <td>0.0</td>\n",
       "      <td>56.772948</td>\n",
       "      <td>59168.00751</td>\n",
       "      <td>10474.441870</td>\n",
       "      <td>623487.5952</td>\n",
       "    </tr>\n",
       "    <tr>\n",
       "      <th>390</th>\n",
       "      <td>1.0</td>\n",
       "      <td>40.397295</td>\n",
       "      <td>71193.72803</td>\n",
       "      <td>3854.733177</td>\n",
       "      <td>762832.2606</td>\n",
       "    </tr>\n",
       "    <tr>\n",
       "      <th>289</th>\n",
       "      <td>0.0</td>\n",
       "      <td>48.256556</td>\n",
       "      <td>86565.15641</td>\n",
       "      <td>13701.799860</td>\n",
       "      <td>819002.1748</td>\n",
       "    </tr>\n",
       "    <tr>\n",
       "      <th>171</th>\n",
       "      <td>1.0</td>\n",
       "      <td>47.447074</td>\n",
       "      <td>40346.06491</td>\n",
       "      <td>11505.899060</td>\n",
       "      <td>255922.4730</td>\n",
       "    </tr>\n",
       "    <tr>\n",
       "      <th>329</th>\n",
       "      <td>1.0</td>\n",
       "      <td>44.232556</td>\n",
       "      <td>45504.74866</td>\n",
       "      <td>9245.466786</td>\n",
       "      <td>374777.6929</td>\n",
       "    </tr>\n",
       "    <tr>\n",
       "      <th>468</th>\n",
       "      <td>0.0</td>\n",
       "      <td>43.304685</td>\n",
       "      <td>68921.40213</td>\n",
       "      <td>8120.204455</td>\n",
       "      <td>515012.2804</td>\n",
       "    </tr>\n",
       "    <tr>\n",
       "      <th>355</th>\n",
       "      <td>1.0</td>\n",
       "      <td>62.625754</td>\n",
       "      <td>64494.39535</td>\n",
       "      <td>8765.624109</td>\n",
       "      <td>408679.8596</td>\n",
       "    </tr>\n",
       "    <tr>\n",
       "      <th>154</th>\n",
       "      <td>1.0</td>\n",
       "      <td>45.052036</td>\n",
       "      <td>59689.81438</td>\n",
       "      <td>14862.840110</td>\n",
       "      <td>449895.3046</td>\n",
       "    </tr>\n",
       "    <tr>\n",
       "      <th>37</th>\n",
       "      <td>1.0</td>\n",
       "      <td>22.000387</td>\n",
       "      <td>43131.78411</td>\n",
       "      <td>10917.140940</td>\n",
       "      <td>326742.7352</td>\n",
       "    </tr>\n",
       "    <tr>\n",
       "      <th>205</th>\n",
       "      <td>1.0</td>\n",
       "      <td>50.494356</td>\n",
       "      <td>60382.17885</td>\n",
       "      <td>11302.882770</td>\n",
       "      <td>490444.4111</td>\n",
       "    </tr>\n",
       "    <tr>\n",
       "      <th>366</th>\n",
       "      <td>1.0</td>\n",
       "      <td>43.129549</td>\n",
       "      <td>54236.62092</td>\n",
       "      <td>7275.314728</td>\n",
       "      <td>432447.5324</td>\n",
       "    </tr>\n",
       "    <tr>\n",
       "      <th>240</th>\n",
       "      <td>0.0</td>\n",
       "      <td>47.680881</td>\n",
       "      <td>60608.40313</td>\n",
       "      <td>8233.280719</td>\n",
       "      <td>492113.0067</td>\n",
       "    </tr>\n",
       "    <tr>\n",
       "      <th>108</th>\n",
       "      <td>NaN</td>\n",
       "      <td>30.349459</td>\n",
       "      <td>61922.89710</td>\n",
       "      <td>NaN</td>\n",
       "      <td>323453.2022</td>\n",
       "    </tr>\n",
       "    <tr>\n",
       "      <th>45</th>\n",
       "      <td>0.0</td>\n",
       "      <td>55.275143</td>\n",
       "      <td>NaN</td>\n",
       "      <td>10155.340950</td>\n",
       "      <td>NaN</td>\n",
       "    </tr>\n",
       "    <tr>\n",
       "      <th>438</th>\n",
       "      <td>0.0</td>\n",
       "      <td>44.277419</td>\n",
       "      <td>70230.15498</td>\n",
       "      <td>8542.019129</td>\n",
       "      <td>320525.7282</td>\n",
       "    </tr>\n",
       "    <tr>\n",
       "      <th>21</th>\n",
       "      <td>0.0</td>\n",
       "      <td>48.081120</td>\n",
       "      <td>64347.34531</td>\n",
       "      <td>10905.366280</td>\n",
       "      <td>307226.0977</td>\n",
       "    </tr>\n",
       "    <tr>\n",
       "      <th>367</th>\n",
       "      <td>1.0</td>\n",
       "      <td>NaN</td>\n",
       "      <td>64426.59613</td>\n",
       "      <td>9514.645028</td>\n",
       "      <td>137601.8440</td>\n",
       "    </tr>\n",
       "    <tr>\n",
       "      <th>96</th>\n",
       "      <td>0.0</td>\n",
       "      <td>46.245735</td>\n",
       "      <td>90556.62686</td>\n",
       "      <td>NaN</td>\n",
       "      <td>479586.9387</td>\n",
       "    </tr>\n",
       "    <tr>\n",
       "      <th>233</th>\n",
       "      <td>1.0</td>\n",
       "      <td>53.141192</td>\n",
       "      <td>70842.83518</td>\n",
       "      <td>9536.899689</td>\n",
       "      <td>545946.9996</td>\n",
       "    </tr>\n",
       "    <tr>\n",
       "      <th>428</th>\n",
       "      <td>0.0</td>\n",
       "      <td>42.640666</td>\n",
       "      <td>56687.93949</td>\n",
       "      <td>10827.161400</td>\n",
       "      <td>790116.4252</td>\n",
       "    </tr>\n",
       "    <tr>\n",
       "      <th>118</th>\n",
       "      <td>0.0</td>\n",
       "      <td>42.915795</td>\n",
       "      <td>45721.66835</td>\n",
       "      <td>14250.523980</td>\n",
       "      <td>NaN</td>\n",
       "    </tr>\n",
       "    <tr>\n",
       "      <th>124</th>\n",
       "      <td>0.0</td>\n",
       "      <td>NaN</td>\n",
       "      <td>60991.82443</td>\n",
       "      <td>7329.228510</td>\n",
       "      <td>586368.9293</td>\n",
       "    </tr>\n",
       "    <tr>\n",
       "      <th>191</th>\n",
       "      <td>1.0</td>\n",
       "      <td>41.173664</td>\n",
       "      <td>65554.40180</td>\n",
       "      <td>12026.579750</td>\n",
       "      <td>462613.8587</td>\n",
       "    </tr>\n",
       "    <tr>\n",
       "      <th>374</th>\n",
       "      <td>NaN</td>\n",
       "      <td>57.134576</td>\n",
       "      <td>67752.38329</td>\n",
       "      <td>13851.921220</td>\n",
       "      <td>657178.4135</td>\n",
       "    </tr>\n",
       "    <tr>\n",
       "      <th>492</th>\n",
       "      <td>0.0</td>\n",
       "      <td>55.087720</td>\n",
       "      <td>72424.80112</td>\n",
       "      <td>9831.184792</td>\n",
       "      <td>523680.7699</td>\n",
       "    </tr>\n",
       "    <tr>\n",
       "      <th>311</th>\n",
       "      <td>0.0</td>\n",
       "      <td>47.488534</td>\n",
       "      <td>48591.57177</td>\n",
       "      <td>14309.211150</td>\n",
       "      <td>364858.7148</td>\n",
       "    </tr>\n",
       "    <tr>\n",
       "      <th>451</th>\n",
       "      <td>1.0</td>\n",
       "      <td>NaN</td>\n",
       "      <td>66505.38124</td>\n",
       "      <td>3942.767620</td>\n",
       "      <td>621309.5863</td>\n",
       "    </tr>\n",
       "    <tr>\n",
       "      <th>353</th>\n",
       "      <td>0.0</td>\n",
       "      <td>51.560544</td>\n",
       "      <td>49393.46784</td>\n",
       "      <td>11521.618900</td>\n",
       "      <td>475263.2759</td>\n",
       "    </tr>\n",
       "    <tr>\n",
       "      <th>238</th>\n",
       "      <td>0.0</td>\n",
       "      <td>51.772612</td>\n",
       "      <td>65239.06468</td>\n",
       "      <td>7437.211028</td>\n",
       "      <td>168703.3385</td>\n",
       "    </tr>\n",
       "    <tr>\n",
       "      <th>322</th>\n",
       "      <td>0.0</td>\n",
       "      <td>60.180119</td>\n",
       "      <td>58837.97088</td>\n",
       "      <td>12788.815730</td>\n",
       "      <td>622324.7499</td>\n",
       "    </tr>\n",
       "    <tr>\n",
       "      <th>46</th>\n",
       "      <td>1.0</td>\n",
       "      <td>42.225890</td>\n",
       "      <td>56098.50773</td>\n",
       "      <td>11675.284960</td>\n",
       "      <td>320228.6451</td>\n",
       "    </tr>\n",
       "    <tr>\n",
       "      <th>403</th>\n",
       "      <td>1.0</td>\n",
       "      <td>36.245257</td>\n",
       "      <td>67508.12293</td>\n",
       "      <td>10188.686850</td>\n",
       "      <td>141587.6498</td>\n",
       "    </tr>\n",
       "    <tr>\n",
       "      <th>221</th>\n",
       "      <td>1.0</td>\n",
       "      <td>36.408033</td>\n",
       "      <td>69494.69783</td>\n",
       "      <td>20000.000000</td>\n",
       "      <td>335809.6171</td>\n",
       "    </tr>\n",
       "    <tr>\n",
       "      <th>76</th>\n",
       "      <td>1.0</td>\n",
       "      <td>53.354188</td>\n",
       "      <td>50867.94007</td>\n",
       "      <td>16732.306380</td>\n",
       "      <td>344916.1768</td>\n",
       "    </tr>\n",
       "    <tr>\n",
       "      <th>1</th>\n",
       "      <td>0.0</td>\n",
       "      <td>40.870623</td>\n",
       "      <td>66646.89292</td>\n",
       "      <td>9572.957136</td>\n",
       "      <td>530973.9078</td>\n",
       "    </tr>\n",
       "    <tr>\n",
       "      <th>213</th>\n",
       "      <td>1.0</td>\n",
       "      <td>47.443904</td>\n",
       "      <td>73096.50927</td>\n",
       "      <td>10743.793000</td>\n",
       "      <td>196421.7402</td>\n",
       "    </tr>\n",
       "    <tr>\n",
       "      <th>325</th>\n",
       "      <td>0.0</td>\n",
       "      <td>51.361381</td>\n",
       "      <td>65245.57379</td>\n",
       "      <td>11554.272300</td>\n",
       "      <td>542777.4892</td>\n",
       "    </tr>\n",
       "    <tr>\n",
       "      <th>418</th>\n",
       "      <td>1.0</td>\n",
       "      <td>29.599080</td>\n",
       "      <td>70076.22764</td>\n",
       "      <td>1726.809885</td>\n",
       "      <td>552267.6361</td>\n",
       "    </tr>\n",
       "    <tr>\n",
       "      <th>102</th>\n",
       "      <td>1.0</td>\n",
       "      <td>30.492353</td>\n",
       "      <td>68289.18229</td>\n",
       "      <td>7357.787011</td>\n",
       "      <td>NaN</td>\n",
       "    </tr>\n",
       "  </tbody>\n",
       "</table>\n",
       "</div>\n",
       "      <button class=\"colab-df-convert\" onclick=\"convertToInteractive('df-c8dc2e65-758a-4f11-b67b-5396ab73a9ce')\"\n",
       "              title=\"Convert this dataframe to an interactive table.\"\n",
       "              style=\"display:none;\">\n",
       "        \n",
       "  <svg xmlns=\"http://www.w3.org/2000/svg\" height=\"24px\"viewBox=\"0 0 24 24\"\n",
       "       width=\"24px\">\n",
       "    <path d=\"M0 0h24v24H0V0z\" fill=\"none\"/>\n",
       "    <path d=\"M18.56 5.44l.94 2.06.94-2.06 2.06-.94-2.06-.94-.94-2.06-.94 2.06-2.06.94zm-11 1L8.5 8.5l.94-2.06 2.06-.94-2.06-.94L8.5 2.5l-.94 2.06-2.06.94zm10 10l.94 2.06.94-2.06 2.06-.94-2.06-.94-.94-2.06-.94 2.06-2.06.94z\"/><path d=\"M17.41 7.96l-1.37-1.37c-.4-.4-.92-.59-1.43-.59-.52 0-1.04.2-1.43.59L10.3 9.45l-7.72 7.72c-.78.78-.78 2.05 0 2.83L4 21.41c.39.39.9.59 1.41.59.51 0 1.02-.2 1.41-.59l7.78-7.78 2.81-2.81c.8-.78.8-2.07 0-2.86zM5.41 20L4 18.59l7.72-7.72 1.47 1.35L5.41 20z\"/>\n",
       "  </svg>\n",
       "      </button>\n",
       "      \n",
       "  <style>\n",
       "    .colab-df-container {\n",
       "      display:flex;\n",
       "      flex-wrap:wrap;\n",
       "      gap: 12px;\n",
       "    }\n",
       "\n",
       "    .colab-df-convert {\n",
       "      background-color: #E8F0FE;\n",
       "      border: none;\n",
       "      border-radius: 50%;\n",
       "      cursor: pointer;\n",
       "      display: none;\n",
       "      fill: #1967D2;\n",
       "      height: 32px;\n",
       "      padding: 0 0 0 0;\n",
       "      width: 32px;\n",
       "    }\n",
       "\n",
       "    .colab-df-convert:hover {\n",
       "      background-color: #E2EBFA;\n",
       "      box-shadow: 0px 1px 2px rgba(60, 64, 67, 0.3), 0px 1px 3px 1px rgba(60, 64, 67, 0.15);\n",
       "      fill: #174EA6;\n",
       "    }\n",
       "\n",
       "    [theme=dark] .colab-df-convert {\n",
       "      background-color: #3B4455;\n",
       "      fill: #D2E3FC;\n",
       "    }\n",
       "\n",
       "    [theme=dark] .colab-df-convert:hover {\n",
       "      background-color: #434B5C;\n",
       "      box-shadow: 0px 1px 3px 1px rgba(0, 0, 0, 0.15);\n",
       "      filter: drop-shadow(0px 1px 2px rgba(0, 0, 0, 0.3));\n",
       "      fill: #FFFFFF;\n",
       "    }\n",
       "  </style>\n",
       "\n",
       "      <script>\n",
       "        const buttonEl =\n",
       "          document.querySelector('#df-c8dc2e65-758a-4f11-b67b-5396ab73a9ce button.colab-df-convert');\n",
       "        buttonEl.style.display =\n",
       "          google.colab.kernel.accessAllowed ? 'block' : 'none';\n",
       "\n",
       "        async function convertToInteractive(key) {\n",
       "          const element = document.querySelector('#df-c8dc2e65-758a-4f11-b67b-5396ab73a9ce');\n",
       "          const dataTable =\n",
       "            await google.colab.kernel.invokeFunction('convertToInteractive',\n",
       "                                                     [key], {});\n",
       "          if (!dataTable) return;\n",
       "\n",
       "          const docLinkHtml = 'Like what you see? Visit the ' +\n",
       "            '<a target=\"_blank\" href=https://colab.research.google.com/notebooks/data_table.ipynb>data table notebook</a>'\n",
       "            + ' to learn more about interactive tables.';\n",
       "          element.innerHTML = '';\n",
       "          dataTable['output_type'] = 'display_data';\n",
       "          await google.colab.output.renderOutput(dataTable, element);\n",
       "          const docLink = document.createElement('div');\n",
       "          docLink.innerHTML = docLinkHtml;\n",
       "          element.appendChild(docLink);\n",
       "        }\n",
       "      </script>\n",
       "    </div>\n",
       "  </div>\n",
       "  "
      ],
      "text/plain": [
       "     Gender        Age  Annual Salary  Credit Card Debt    Net Worth\n",
       "90      1.0  49.956014            NaN       8244.470226  173079.1798\n",
       "254     0.0  45.260364    68499.69447      15436.799680  308445.8598\n",
       "283     1.0  40.875375    59060.08664       5841.612044  136346.3069\n",
       "445     0.0  52.610045    76318.87883       6392.211408  245216.1691\n",
       "461     1.0  38.545834    58632.58875      12035.370790  516817.3173\n",
       "15      1.0  53.289768    64662.30061      11326.034340  481433.4324\n",
       "316     0.0  46.520642    73502.12458      11132.392990  765711.6025\n",
       "489     0.0  54.879545    64430.07398       6924.106833  664862.0102\n",
       "159     0.0  55.989615    39488.45582      10992.333830  363561.1972\n",
       "153     0.0  33.775269    55576.84068       9396.008371  475126.1252\n",
       "241     1.0  48.045095    56118.39601       9242.775995  586717.4715\n",
       "250     0.0  56.772948    59168.00751      10474.441870  623487.5952\n",
       "390     1.0  40.397295    71193.72803       3854.733177  762832.2606\n",
       "289     0.0  48.256556    86565.15641      13701.799860  819002.1748\n",
       "171     1.0  47.447074    40346.06491      11505.899060  255922.4730\n",
       "329     1.0  44.232556    45504.74866       9245.466786  374777.6929\n",
       "468     0.0  43.304685    68921.40213       8120.204455  515012.2804\n",
       "355     1.0  62.625754    64494.39535       8765.624109  408679.8596\n",
       "154     1.0  45.052036    59689.81438      14862.840110  449895.3046\n",
       "37      1.0  22.000387    43131.78411      10917.140940  326742.7352\n",
       "205     1.0  50.494356    60382.17885      11302.882770  490444.4111\n",
       "366     1.0  43.129549    54236.62092       7275.314728  432447.5324\n",
       "240     0.0  47.680881    60608.40313       8233.280719  492113.0067\n",
       "108     NaN  30.349459    61922.89710               NaN  323453.2022\n",
       "45      0.0  55.275143            NaN      10155.340950          NaN\n",
       "438     0.0  44.277419    70230.15498       8542.019129  320525.7282\n",
       "21      0.0  48.081120    64347.34531      10905.366280  307226.0977\n",
       "367     1.0        NaN    64426.59613       9514.645028  137601.8440\n",
       "96      0.0  46.245735    90556.62686               NaN  479586.9387\n",
       "233     1.0  53.141192    70842.83518       9536.899689  545946.9996\n",
       "428     0.0  42.640666    56687.93949      10827.161400  790116.4252\n",
       "118     0.0  42.915795    45721.66835      14250.523980          NaN\n",
       "124     0.0        NaN    60991.82443       7329.228510  586368.9293\n",
       "191     1.0  41.173664    65554.40180      12026.579750  462613.8587\n",
       "374     NaN  57.134576    67752.38329      13851.921220  657178.4135\n",
       "492     0.0  55.087720    72424.80112       9831.184792  523680.7699\n",
       "311     0.0  47.488534    48591.57177      14309.211150  364858.7148\n",
       "451     1.0        NaN    66505.38124       3942.767620  621309.5863\n",
       "353     0.0  51.560544    49393.46784      11521.618900  475263.2759\n",
       "238     0.0  51.772612    65239.06468       7437.211028  168703.3385\n",
       "322     0.0  60.180119    58837.97088      12788.815730  622324.7499\n",
       "46      1.0  42.225890    56098.50773      11675.284960  320228.6451\n",
       "403     1.0  36.245257    67508.12293      10188.686850  141587.6498\n",
       "221     1.0  36.408033    69494.69783      20000.000000  335809.6171\n",
       "76      1.0  53.354188    50867.94007      16732.306380  344916.1768\n",
       "1       0.0  40.870623    66646.89292       9572.957136  530973.9078\n",
       "213     1.0  47.443904    73096.50927      10743.793000  196421.7402\n",
       "325     0.0  51.361381    65245.57379      11554.272300  542777.4892\n",
       "418     1.0  29.599080    70076.22764       1726.809885  552267.6361\n",
       "102     1.0  30.492353    68289.18229       7357.787011          NaN"
      ]
     },
     "execution_count": 202,
     "metadata": {},
     "output_type": "execute_result"
    }
   ],
   "source": [
    "X_test"
   ]
  },
  {
   "cell_type": "markdown",
   "metadata": {
    "id": "96xav5o2xHex"
   },
   "source": [
    "## Missing values "
   ]
  },
  {
   "cell_type": "markdown",
   "metadata": {
    "id": "qDBVaC61vid7"
   },
   "source": [
    "### Continuous variables"
   ]
  },
  {
   "cell_type": "code",
   "execution_count": 203,
   "metadata": {
    "colab": {
     "base_uri": "https://localhost:8080/"
    },
    "id": "gqp4zcWgvM6k",
    "outputId": "c9f3f242-a8ab-4622-e405-bc867ed5a338"
   },
   "outputs": [
    {
     "name": "stdout",
     "output_type": "stream",
     "text": [
      "Gender 0.035555555555555556\n",
      "Age 0.022222222222222223\n",
      "Annual Salary 0.02\n",
      "Credit Card Debt 0.035555555555555556\n",
      "Net Worth 0.028888888888888888\n"
     ]
    }
   ],
   "source": [
    "for col in numerical:\n",
    "    if X_train[col].isnull().mean() > 0:\n",
    "        print(col, X_train[col].isnull().mean())"
   ]
  },
  {
   "cell_type": "markdown",
   "metadata": {
    "id": "KZETnaZGx6F1"
   },
   "source": [
    "## Find discrete variables"
   ]
  },
  {
   "cell_type": "code",
   "execution_count": 204,
   "metadata": {
    "colab": {
     "base_uri": "https://localhost:8080/"
    },
    "id": "z6Cka6eRvNAF",
    "outputId": "9d81fd17-ea09-49a4-b073-1a258e06d9d4"
   },
   "outputs": [
    {
     "name": "stdout",
     "output_type": "stream",
     "text": [
      "Gender values:  [ 0.  1. nan]\n",
      "\n",
      "There are 1 discrete var\n"
     ]
    }
   ],
   "source": [
    "discrete = []\n",
    "for var in numerical:\n",
    "    if len(data[var].unique()) < 20 :\n",
    "        print(var,'values: ', data[var].unique())\n",
    "        discrete.append(var)\n",
    "print()\n",
    "print('There are {} discrete var'. format (len(discrete)))    "
   ]
  },
  {
   "cell_type": "code",
   "execution_count": 205,
   "metadata": {
    "colab": {
     "base_uri": "https://localhost:8080/"
    },
    "id": "5CkJ429pD6XP",
    "outputId": "76d46fe6-4935-407b-9ed2-7cae0f14c202"
   },
   "outputs": [
    {
     "data": {
      "text/plain": [
       "['Gender']"
      ]
     },
     "execution_count": 205,
     "metadata": {},
     "output_type": "execute_result"
    }
   ],
   "source": [
    "discrete"
   ]
  },
  {
   "cell_type": "code",
   "execution_count": 206,
   "metadata": {
    "id": "S7duVKlEQQQq"
   },
   "outputs": [],
   "source": [
    "numeric_features_mean = ['Gender']\n",
    "numeric_features_median = ['Age',\n",
    "                          'Annual Salary', 'Credit Card Debt', 'Net Worth']\n",
    "numeric_mean_imputer = Pipeline (steps = [('imputer', SimpleImputer(strategy = 'mean')),])\n",
    "numeric_median_imputer = Pipeline (steps = [('imputer', SimpleImputer(strategy = 'median')),])\n",
    "\n",
    "preprocessor = ColumnTransformer(transformers = [('mean_imputer', numeric_mean_imputer, numeric_features_mean),\n",
    "                                                 ('median_imputer', numeric_median_imputer, numeric_features_median)],\n",
    "                                 remainder = 'passthrough')  "
   ]
  },
  {
   "cell_type": "code",
   "execution_count": 207,
   "metadata": {
    "colab": {
     "base_uri": "https://localhost:8080/"
    },
    "id": "4pgToZK5RNcv",
    "outputId": "f29c61ca-2dc6-451e-b72f-4d912c2cb449"
   },
   "outputs": [
    {
     "data": {
      "text/plain": [
       "ColumnTransformer(remainder='passthrough',\n",
       "                  transformers=[('mean_imputer',\n",
       "                                 Pipeline(steps=[('imputer', SimpleImputer())]),\n",
       "                                 ['Gender']),\n",
       "                                ('median_imputer',\n",
       "                                 Pipeline(steps=[('imputer',\n",
       "                                                  SimpleImputer(strategy='median'))]),\n",
       "                                 ['Age', 'Annual Salary', 'Credit Card Debt',\n",
       "                                  'Net Worth'])])"
      ]
     },
     "execution_count": 207,
     "metadata": {},
     "output_type": "execute_result"
    }
   ],
   "source": [
    "preprocessor.fit(X_train)"
   ]
  },
  {
   "cell_type": "code",
   "execution_count": 208,
   "metadata": {
    "colab": {
     "base_uri": "https://localhost:8080/"
    },
    "id": "FdUk3RXURPdJ",
    "outputId": "b1d327cd-ff77-49cf-fafc-2f3ec6fdfd11"
   },
   "outputs": [
    {
     "data": {
      "text/plain": [
       "[('mean_imputer', Pipeline(steps=[('imputer', SimpleImputer())]), ['Gender']),\n",
       " ('median_imputer',\n",
       "  Pipeline(steps=[('imputer', SimpleImputer(strategy='median'))]),\n",
       "  ['Age', 'Annual Salary', 'Credit Card Debt', 'Net Worth'])]"
      ]
     },
     "execution_count": 208,
     "metadata": {},
     "output_type": "execute_result"
    }
   ],
   "source": [
    "preprocessor.transformers"
   ]
  },
  {
   "cell_type": "code",
   "execution_count": 209,
   "metadata": {
    "colab": {
     "base_uri": "https://localhost:8080/"
    },
    "id": "Yi8mEKLKRTHF",
    "outputId": "1f620061-6ab4-4f88-bbe0-0554fae0515b"
   },
   "outputs": [
    {
     "data": {
      "text/plain": [
       "array([0.50460829])"
      ]
     },
     "execution_count": 209,
     "metadata": {},
     "output_type": "execute_result"
    }
   ],
   "source": [
    "preprocessor.named_transformers_['mean_imputer'].named_steps['imputer'].statistics_"
   ]
  },
  {
   "cell_type": "code",
   "execution_count": 210,
   "metadata": {
    "colab": {
     "base_uri": "https://localhost:8080/"
    },
    "id": "eDzn6-BYRWlS",
    "outputId": "2eee1053-b1f8-40e7-9b57-04abf35e7172"
   },
   "outputs": [
    {
     "data": {
      "text/plain": [
       "Gender    0.504608\n",
       "dtype: float64"
      ]
     },
     "execution_count": 210,
     "metadata": {},
     "output_type": "execute_result"
    }
   ],
   "source": [
    "X_train[numeric_features_mean].mean()"
   ]
  },
  {
   "cell_type": "code",
   "execution_count": 211,
   "metadata": {
    "colab": {
     "base_uri": "https://localhost:8080/"
    },
    "id": "saLoohelRWoh",
    "outputId": "0e24b4a7-67d7-49fb-bdfa-102cbe3b9840"
   },
   "outputs": [
    {
     "data": {
      "text/plain": [
       "array([4.56606310e+01, 6.27214051e+04, 9.63819258e+03, 4.18764506e+05])"
      ]
     },
     "execution_count": 211,
     "metadata": {},
     "output_type": "execute_result"
    }
   ],
   "source": [
    "preprocessor.named_transformers_['median_imputer'].named_steps['imputer'].statistics_"
   ]
  },
  {
   "cell_type": "code",
   "execution_count": 212,
   "metadata": {
    "colab": {
     "base_uri": "https://localhost:8080/"
    },
    "id": "allxzImsReQS",
    "outputId": "ad2b4235-2730-44bc-8b56-7916e2de4abd"
   },
   "outputs": [
    {
     "data": {
      "text/plain": [
       "Age                     45.660631\n",
       "Annual Salary        62721.405140\n",
       "Credit Card Debt      9638.192582\n",
       "Net Worth           418764.506100\n",
       "dtype: float64"
      ]
     },
     "execution_count": 212,
     "metadata": {},
     "output_type": "execute_result"
    }
   ],
   "source": [
    "X_train[numeric_features_median].median()"
   ]
  },
  {
   "cell_type": "code",
   "execution_count": 213,
   "metadata": {
    "colab": {
     "base_uri": "https://localhost:8080/"
    },
    "id": "UslO0_8TReTd",
    "outputId": "def1ed32-e6d0-4a50-c79d-2633b79ec258"
   },
   "outputs": [
    {
     "data": {
      "text/plain": [
       "0.0"
      ]
     },
     "execution_count": 213,
     "metadata": {},
     "output_type": "execute_result"
    }
   ],
   "source": [
    "X_train = preprocessor.transform(X_train)\n",
    "np.mean(np.isnan (X_train))"
   ]
  },
  {
   "cell_type": "code",
   "execution_count": 214,
   "metadata": {
    "colab": {
     "base_uri": "https://localhost:8080/"
    },
    "id": "UwQ-_b_aRkD8",
    "outputId": "96a69ab9-3926-4582-f47b-04b63e1fd096"
   },
   "outputs": [
    {
     "data": {
      "text/plain": [
       "0.0"
      ]
     },
     "execution_count": 214,
     "metadata": {},
     "output_type": "execute_result"
    }
   ],
   "source": [
    "X_test = preprocessor.transform(X_test)\n",
    "np.mean(np.isnan (X_test))"
   ]
  },
  {
   "cell_type": "code",
   "execution_count": 215,
   "metadata": {
    "colab": {
     "base_uri": "https://localhost:8080/",
     "height": 424
    },
    "id": "YG7Kpf64RrVl",
    "outputId": "ac9a86e2-1d72-459c-db83-fbeb70b25185"
   },
   "outputs": [
    {
     "data": {
      "text/html": [
       "\n",
       "  <div id=\"df-5af55f61-d8bb-4ca7-b7ec-8c6c89734471\">\n",
       "    <div class=\"colab-df-container\">\n",
       "      <div>\n",
       "<style scoped>\n",
       "    .dataframe tbody tr th:only-of-type {\n",
       "        vertical-align: middle;\n",
       "    }\n",
       "\n",
       "    .dataframe tbody tr th {\n",
       "        vertical-align: top;\n",
       "    }\n",
       "\n",
       "    .dataframe thead th {\n",
       "        text-align: right;\n",
       "    }\n",
       "</style>\n",
       "<table border=\"1\" class=\"dataframe\">\n",
       "  <thead>\n",
       "    <tr style=\"text-align: right;\">\n",
       "      <th></th>\n",
       "      <th>Gender</th>\n",
       "      <th>Age</th>\n",
       "      <th>Annual Salary</th>\n",
       "      <th>Credit Card Debt</th>\n",
       "      <th>Net Worth</th>\n",
       "    </tr>\n",
       "  </thead>\n",
       "  <tbody>\n",
       "    <tr>\n",
       "      <th>0</th>\n",
       "      <td>1.0</td>\n",
       "      <td>31.896223</td>\n",
       "      <td>60384.34541</td>\n",
       "      <td>11518.291750</td>\n",
       "      <td>589180.4485</td>\n",
       "    </tr>\n",
       "    <tr>\n",
       "      <th>1</th>\n",
       "      <td>1.0</td>\n",
       "      <td>42.432012</td>\n",
       "      <td>65714.46469</td>\n",
       "      <td>12557.081330</td>\n",
       "      <td>362707.0273</td>\n",
       "    </tr>\n",
       "    <tr>\n",
       "      <th>2</th>\n",
       "      <td>0.0</td>\n",
       "      <td>43.705397</td>\n",
       "      <td>70136.82862</td>\n",
       "      <td>7765.975483</td>\n",
       "      <td>555993.1081</td>\n",
       "    </tr>\n",
       "    <tr>\n",
       "      <th>3</th>\n",
       "      <td>0.0</td>\n",
       "      <td>57.458598</td>\n",
       "      <td>68090.50870</td>\n",
       "      <td>6181.970908</td>\n",
       "      <td>316064.0338</td>\n",
       "    </tr>\n",
       "    <tr>\n",
       "      <th>4</th>\n",
       "      <td>0.0</td>\n",
       "      <td>45.402441</td>\n",
       "      <td>63729.12568</td>\n",
       "      <td>12507.197360</td>\n",
       "      <td>271430.0543</td>\n",
       "    </tr>\n",
       "    <tr>\n",
       "      <th>...</th>\n",
       "      <td>...</td>\n",
       "      <td>...</td>\n",
       "      <td>...</td>\n",
       "      <td>...</td>\n",
       "      <td>...</td>\n",
       "    </tr>\n",
       "    <tr>\n",
       "      <th>445</th>\n",
       "      <td>0.0</td>\n",
       "      <td>33.811252</td>\n",
       "      <td>49607.23466</td>\n",
       "      <td>9344.323770</td>\n",
       "      <td>290711.8670</td>\n",
       "    </tr>\n",
       "    <tr>\n",
       "      <th>446</th>\n",
       "      <td>0.0</td>\n",
       "      <td>38.551020</td>\n",
       "      <td>69248.49530</td>\n",
       "      <td>6445.784981</td>\n",
       "      <td>298246.0609</td>\n",
       "    </tr>\n",
       "    <tr>\n",
       "      <th>447</th>\n",
       "      <td>0.0</td>\n",
       "      <td>34.681961</td>\n",
       "      <td>62721.40514</td>\n",
       "      <td>12719.644150</td>\n",
       "      <td>244310.5736</td>\n",
       "    </tr>\n",
       "    <tr>\n",
       "      <th>448</th>\n",
       "      <td>0.0</td>\n",
       "      <td>51.168139</td>\n",
       "      <td>57478.37922</td>\n",
       "      <td>2230.096344</td>\n",
       "      <td>158979.7102</td>\n",
       "    </tr>\n",
       "    <tr>\n",
       "      <th>449</th>\n",
       "      <td>0.0</td>\n",
       "      <td>40.142348</td>\n",
       "      <td>71148.20248</td>\n",
       "      <td>7917.650970</td>\n",
       "      <td>416817.4673</td>\n",
       "    </tr>\n",
       "  </tbody>\n",
       "</table>\n",
       "<p>450 rows × 5 columns</p>\n",
       "</div>\n",
       "      <button class=\"colab-df-convert\" onclick=\"convertToInteractive('df-5af55f61-d8bb-4ca7-b7ec-8c6c89734471')\"\n",
       "              title=\"Convert this dataframe to an interactive table.\"\n",
       "              style=\"display:none;\">\n",
       "        \n",
       "  <svg xmlns=\"http://www.w3.org/2000/svg\" height=\"24px\"viewBox=\"0 0 24 24\"\n",
       "       width=\"24px\">\n",
       "    <path d=\"M0 0h24v24H0V0z\" fill=\"none\"/>\n",
       "    <path d=\"M18.56 5.44l.94 2.06.94-2.06 2.06-.94-2.06-.94-.94-2.06-.94 2.06-2.06.94zm-11 1L8.5 8.5l.94-2.06 2.06-.94-2.06-.94L8.5 2.5l-.94 2.06-2.06.94zm10 10l.94 2.06.94-2.06 2.06-.94-2.06-.94-.94-2.06-.94 2.06-2.06.94z\"/><path d=\"M17.41 7.96l-1.37-1.37c-.4-.4-.92-.59-1.43-.59-.52 0-1.04.2-1.43.59L10.3 9.45l-7.72 7.72c-.78.78-.78 2.05 0 2.83L4 21.41c.39.39.9.59 1.41.59.51 0 1.02-.2 1.41-.59l7.78-7.78 2.81-2.81c.8-.78.8-2.07 0-2.86zM5.41 20L4 18.59l7.72-7.72 1.47 1.35L5.41 20z\"/>\n",
       "  </svg>\n",
       "      </button>\n",
       "      \n",
       "  <style>\n",
       "    .colab-df-container {\n",
       "      display:flex;\n",
       "      flex-wrap:wrap;\n",
       "      gap: 12px;\n",
       "    }\n",
       "\n",
       "    .colab-df-convert {\n",
       "      background-color: #E8F0FE;\n",
       "      border: none;\n",
       "      border-radius: 50%;\n",
       "      cursor: pointer;\n",
       "      display: none;\n",
       "      fill: #1967D2;\n",
       "      height: 32px;\n",
       "      padding: 0 0 0 0;\n",
       "      width: 32px;\n",
       "    }\n",
       "\n",
       "    .colab-df-convert:hover {\n",
       "      background-color: #E2EBFA;\n",
       "      box-shadow: 0px 1px 2px rgba(60, 64, 67, 0.3), 0px 1px 3px 1px rgba(60, 64, 67, 0.15);\n",
       "      fill: #174EA6;\n",
       "    }\n",
       "\n",
       "    [theme=dark] .colab-df-convert {\n",
       "      background-color: #3B4455;\n",
       "      fill: #D2E3FC;\n",
       "    }\n",
       "\n",
       "    [theme=dark] .colab-df-convert:hover {\n",
       "      background-color: #434B5C;\n",
       "      box-shadow: 0px 1px 3px 1px rgba(0, 0, 0, 0.15);\n",
       "      filter: drop-shadow(0px 1px 2px rgba(0, 0, 0, 0.3));\n",
       "      fill: #FFFFFF;\n",
       "    }\n",
       "  </style>\n",
       "\n",
       "      <script>\n",
       "        const buttonEl =\n",
       "          document.querySelector('#df-5af55f61-d8bb-4ca7-b7ec-8c6c89734471 button.colab-df-convert');\n",
       "        buttonEl.style.display =\n",
       "          google.colab.kernel.accessAllowed ? 'block' : 'none';\n",
       "\n",
       "        async function convertToInteractive(key) {\n",
       "          const element = document.querySelector('#df-5af55f61-d8bb-4ca7-b7ec-8c6c89734471');\n",
       "          const dataTable =\n",
       "            await google.colab.kernel.invokeFunction('convertToInteractive',\n",
       "                                                     [key], {});\n",
       "          if (!dataTable) return;\n",
       "\n",
       "          const docLinkHtml = 'Like what you see? Visit the ' +\n",
       "            '<a target=\"_blank\" href=https://colab.research.google.com/notebooks/data_table.ipynb>data table notebook</a>'\n",
       "            + ' to learn more about interactive tables.';\n",
       "          element.innerHTML = '';\n",
       "          dataTable['output_type'] = 'display_data';\n",
       "          await google.colab.output.renderOutput(dataTable, element);\n",
       "          const docLink = document.createElement('div');\n",
       "          docLink.innerHTML = docLinkHtml;\n",
       "          element.appendChild(docLink);\n",
       "        }\n",
       "      </script>\n",
       "    </div>\n",
       "  </div>\n",
       "  "
      ],
      "text/plain": [
       "     Gender        Age  Annual Salary  Credit Card Debt    Net Worth\n",
       "0       1.0  31.896223    60384.34541      11518.291750  589180.4485\n",
       "1       1.0  42.432012    65714.46469      12557.081330  362707.0273\n",
       "2       0.0  43.705397    70136.82862       7765.975483  555993.1081\n",
       "3       0.0  57.458598    68090.50870       6181.970908  316064.0338\n",
       "4       0.0  45.402441    63729.12568      12507.197360  271430.0543\n",
       "..      ...        ...            ...               ...          ...\n",
       "445     0.0  33.811252    49607.23466       9344.323770  290711.8670\n",
       "446     0.0  38.551020    69248.49530       6445.784981  298246.0609\n",
       "447     0.0  34.681961    62721.40514      12719.644150  244310.5736\n",
       "448     0.0  51.168139    57478.37922       2230.096344  158979.7102\n",
       "449     0.0  40.142348    71148.20248       7917.650970  416817.4673\n",
       "\n",
       "[450 rows x 5 columns]"
      ]
     },
     "execution_count": 215,
     "metadata": {},
     "output_type": "execute_result"
    }
   ],
   "source": [
    "pd.DataFrame(X_train, columns = numeric_features_mean + numeric_features_median)"
   ]
  },
  {
   "cell_type": "code",
   "execution_count": 216,
   "metadata": {
    "id": "IoIhW-mNR1H1"
   },
   "outputs": [],
   "source": [
    "scaler = MinMaxScaler()\n",
    "X_train = scaler.fit_transform(X_train)\n",
    "X_test= scaler.transform(X_test)\n",
    "\n",
    "y_scaler = MinMaxScaler()\n",
    "\n",
    "y_train = y_train.values.reshape(-1, 1)\n",
    "y_train = y_scaler.fit_transform(y_train)"
   ]
  },
  {
   "cell_type": "code",
   "execution_count": 217,
   "metadata": {
    "colab": {
     "base_uri": "https://localhost:8080/"
    },
    "id": "oYCBes3yFgsI",
    "outputId": "4cbb519c-97e2-491c-cd9d-4817218722a7"
   },
   "outputs": [
    {
     "data": {
      "text/plain": [
       "((450, 5), (50, 5))"
      ]
     },
     "execution_count": 217,
     "metadata": {},
     "output_type": "execute_result"
    }
   ],
   "source": [
    "X_train.shape, X_test.shape"
   ]
  },
  {
   "cell_type": "code",
   "execution_count": 218,
   "metadata": {
    "colab": {
     "base_uri": "https://localhost:8080/"
    },
    "id": "RI1N99pDE-Hg",
    "outputId": "9e4084bf-a124-46c7-dafa-b9b502c5c688"
   },
   "outputs": [
    {
     "data": {
      "text/plain": [
       "array([[1.        , 0.23792445, 0.50480432, 0.58277664, 0.58079638],\n",
       "       [1.        , 0.44864024, 0.57143081, 0.63579528, 0.34970105],\n",
       "       [0.        , 0.47410793, 0.62671036, 0.39126268, 0.54693174],\n",
       "       ...,\n",
       "       [0.        , 0.29363923, 0.53401756, 0.6440923 , 0.22888834],\n",
       "       [0.        , 0.62336278, 0.46847974, 0.1087177 , 0.14181603],\n",
       "       [0.        , 0.40284696, 0.63935253, 0.39900402, 0.40491578]])"
      ]
     },
     "execution_count": 218,
     "metadata": {},
     "output_type": "execute_result"
    }
   ],
   "source": [
    "X_train"
   ]
  },
  {
   "cell_type": "code",
   "execution_count": 219,
   "metadata": {
    "colab": {
     "base_uri": "https://localhost:8080/"
    },
    "id": "kiiS_-6eFBV3",
    "outputId": "dc07702a-6285-4a0d-c01a-2f599ca39bf1"
   },
   "outputs": [
    {
     "data": {
      "text/plain": [
       "array([[1.        , 0.59912029, 0.53401756, 0.41568451, 0.15620324],\n",
       "       [0.        , 0.50520728, 0.60624618, 0.78277283, 0.29433251],\n",
       "       [1.        , 0.4175075 , 0.48825108, 0.29304536, 0.11872072],\n",
       "       [0.        , 0.65220091, 0.70398599, 0.32114732, 0.22981242],\n",
       "       [1.        , 0.37091667, 0.48290736, 0.60916776, 0.50695645],\n",
       "       [1.        , 0.66579536, 0.55827876, 0.57296404, 0.47085044],\n",
       "       [0.        , 0.53041284, 0.66877656, 0.5630808 , 0.76093021],\n",
       "       [0.        , 0.69759089, 0.55537592, 0.34829466, 0.65802246],\n",
       "       [0.        , 0.71979231, 0.2436057 , 0.55593234, 0.35057265],\n",
       "       [0.        , 0.27550539, 0.44471051, 0.47445771, 0.46441441],\n",
       "       [1.        , 0.5609019 , 0.45147995, 0.4666369 , 0.57828313],\n",
       "       [0.        , 0.73545895, 0.48960009, 0.52949973, 0.61580367],\n",
       "       [1.        , 0.4079459 , 0.6399216 , 0.19163732, 0.7579921 ],\n",
       "       [0.        , 0.56513113, 0.83206446, 0.69422041, 0.81530834],\n",
       "       [1.        , 0.54894148, 0.25432581, 0.58214413, 0.24073722],\n",
       "       [1.        , 0.48465112, 0.31880936, 0.46677423, 0.36201805],\n",
       "       [0.        , 0.4660937 , 0.61151753, 0.40934212, 0.50511457],\n",
       "       [1.        , 0.85251508, 0.55617994, 0.44228361, 0.3966121 ],\n",
       "       [1.        , 0.50104073, 0.49612268, 0.75347859, 0.43866868],\n",
       "       [1.        , 0.04000773, 0.2891473 , 0.55209458, 0.31300279],\n",
       "       [1.        , 0.60988712, 0.50477724, 0.57178241, 0.48004532],\n",
       "       [1.        , 0.46259097, 0.42795776, 0.36621991, 0.42086483],\n",
       "       [0.        , 0.55361761, 0.50760504, 0.41511341, 0.48174797],\n",
       "       [0.50460829, 0.20698918, 0.52403621, 0.48681851, 0.30964612],\n",
       "       [0.        , 0.70550285, 0.53401756, 0.51321318, 0.40690256],\n",
       "       [0.        , 0.48554838, 0.62787694, 0.43087107, 0.30665891],\n",
       "       [0.        , 0.56162239, 0.55434182, 0.55149362, 0.29308785],\n",
       "       [1.        , 0.51321262, 0.55533245, 0.48051279, 0.12000188],\n",
       "       [0.        , 0.5249147 , 0.88195784, 0.48681851, 0.46896626],\n",
       "       [1.        , 0.66282384, 0.63553544, 0.48164864, 0.53668061],\n",
       "       [0.        , 0.45281331, 0.45859924, 0.54750213, 0.78583309],\n",
       "       [0.        , 0.4583159 , 0.32152085, 0.72222667, 0.40690256],\n",
       "       [0.        , 0.51321262, 0.51239781, 0.36897161, 0.57792748],\n",
       "       [1.        , 0.42347327, 0.56943002, 0.60871908, 0.45164679],\n",
       "       [0.50460829, 0.74269152, 0.59690479, 0.70188244, 0.65018205],\n",
       "       [0.        , 0.70175441, 0.65531001, 0.49666862, 0.51395997],\n",
       "       [0.        , 0.54977068, 0.35739465, 0.72522199, 0.35189665],\n",
       "       [1.        , 0.51321262, 0.58131727, 0.19613049, 0.61358121],\n",
       "       [0.        , 0.63121089, 0.36741835, 0.58294645, 0.46455436],\n",
       "       [0.        , 0.63545225, 0.56548831, 0.37448291, 0.1517381 ],\n",
       "       [0.        , 0.80360238, 0.48547464, 0.64762274, 0.61461709],\n",
       "       [1.        , 0.44451781, 0.45123135, 0.59078939, 0.30635576],\n",
       "       [1.        , 0.32490513, 0.59385154, 0.51491511, 0.12406903],\n",
       "       [1.        , 0.32816066, 0.61868372, 1.01567339, 0.32225471],\n",
       "       [1.        , 0.66708376, 0.38584925, 0.84889402, 0.33154712],\n",
       "       [0.        , 0.41741247, 0.58308616, 0.48348897, 0.52140195],\n",
       "       [1.        , 0.54887807, 0.66370637, 0.5432471 , 0.18002218],\n",
       "       [0.        , 0.62722761, 0.56556967, 0.58461304, 0.53344642],\n",
       "       [1.        , 0.19198159, 0.62595285, 0.08303053, 0.54313024],\n",
       "       [1.        , 0.20984707, 0.60361478, 0.3704292 , 0.40690256]])"
      ]
     },
     "execution_count": 219,
     "metadata": {},
     "output_type": "execute_result"
    }
   ],
   "source": [
    "X_test"
   ]
  },
  {
   "cell_type": "code",
   "execution_count": 220,
   "metadata": {
    "colab": {
     "base_uri": "https://localhost:8080/"
    },
    "id": "F_r0zbQgFTkA",
    "outputId": "3fb39185-ae0c-45d3-e4d3-1c548dbb3823"
   },
   "outputs": [
    {
     "data": {
      "text/plain": [
       "array([[0.37643596],\n",
       "       [0.45107076],\n",
       "       [0.58012487],\n",
       "       [0.62895125],\n",
       "       [0.43333307],\n",
       "       [0.27746526],\n",
       "       [0.48597146],\n",
       "       [0.68212351],\n",
       "       [0.51422109],\n",
       "       [0.70558126],\n",
       "       [0.4155271 ],\n",
       "       [0.54964825],\n",
       "       [0.47470876],\n",
       "       [0.54534475],\n",
       "       [0.46931782],\n",
       "       [0.57353959],\n",
       "       [0.70486638],\n",
       "       [0.26992761],\n",
       "       [0.43026944],\n",
       "       [0.59095889],\n",
       "       [0.49885366],\n",
       "       [0.61908354],\n",
       "       [0.20447774],\n",
       "       [0.6691568 ],\n",
       "       [0.56409653],\n",
       "       [0.30935321],\n",
       "       [0.63399262],\n",
       "       [0.68227386],\n",
       "       [0.61669253],\n",
       "       [0.27381426],\n",
       "       [0.76406707],\n",
       "       [0.58735466],\n",
       "       [0.6502447 ],\n",
       "       [0.46018938],\n",
       "       [0.31103807],\n",
       "       [0.38794277],\n",
       "       [0.5558489 ],\n",
       "       [0.41088501],\n",
       "       [0.56829414],\n",
       "       [0.3236476 ],\n",
       "       [0.73406295],\n",
       "       [0.41040247],\n",
       "       [0.39802597],\n",
       "       [0.38150608],\n",
       "       [0.3059129 ],\n",
       "       [0.41613807],\n",
       "       [0.54057623],\n",
       "       [0.45278122],\n",
       "       [0.39926954],\n",
       "       [0.33068236],\n",
       "       [0.36116341],\n",
       "       [0.51912329],\n",
       "       [0.56863909],\n",
       "       [0.36815842],\n",
       "       [0.28064374],\n",
       "       [0.39967091],\n",
       "       [0.60481233],\n",
       "       [0.53534616],\n",
       "       [0.76110147],\n",
       "       [0.32165106],\n",
       "       [0.61562087],\n",
       "       [0.54133778],\n",
       "       [0.42831636],\n",
       "       [0.54948752],\n",
       "       [0.59220313],\n",
       "       [0.37288737],\n",
       "       [0.65775822],\n",
       "       [0.6825565 ],\n",
       "       [0.64966102],\n",
       "       [0.73050372],\n",
       "       [0.32481193],\n",
       "       [0.55963883],\n",
       "       [0.33988067],\n",
       "       [0.56275857],\n",
       "       [0.34882593],\n",
       "       [0.49908428],\n",
       "       [0.33433524],\n",
       "       [0.49805458],\n",
       "       [0.54888405],\n",
       "       [0.52679628],\n",
       "       [0.54146119],\n",
       "       [0.46494647],\n",
       "       [0.47531745],\n",
       "       [0.55070832],\n",
       "       [0.50332973],\n",
       "       [0.4556686 ],\n",
       "       [0.43805795],\n",
       "       [0.51865585],\n",
       "       [0.        ],\n",
       "       [0.42988917],\n",
       "       [0.665203  ],\n",
       "       [0.55305289],\n",
       "       [0.61959897],\n",
       "       [0.3966416 ],\n",
       "       [0.46457217],\n",
       "       [0.66078116],\n",
       "       [0.43107389],\n",
       "       [0.51220225],\n",
       "       [0.3540794 ],\n",
       "       [0.67059152],\n",
       "       [0.28768775],\n",
       "       [0.38204913],\n",
       "       [0.55806565],\n",
       "       [0.54592485],\n",
       "       [0.71008706],\n",
       "       [0.53860366],\n",
       "       [0.61560519],\n",
       "       [0.59339372],\n",
       "       [0.72629843],\n",
       "       [0.57056385],\n",
       "       [0.37903726],\n",
       "       [0.26233016],\n",
       "       [0.46897896],\n",
       "       [0.28930803],\n",
       "       [0.49905236],\n",
       "       [0.45713635],\n",
       "       [0.48228989],\n",
       "       [0.49948317],\n",
       "       [0.50855247],\n",
       "       [0.55003734],\n",
       "       [0.33756622],\n",
       "       [0.67782275],\n",
       "       [0.38757338],\n",
       "       [0.56429808],\n",
       "       [0.31678049],\n",
       "       [0.51838459],\n",
       "       [0.69917902],\n",
       "       [0.77096325],\n",
       "       [0.66298048],\n",
       "       [0.51086565],\n",
       "       [0.22891454],\n",
       "       [0.47160596],\n",
       "       [0.36343414],\n",
       "       [0.17564949],\n",
       "       [0.43793831],\n",
       "       [0.3754806 ],\n",
       "       [0.47754279],\n",
       "       [0.42443705],\n",
       "       [0.61949147],\n",
       "       [0.05486922],\n",
       "       [0.43511174],\n",
       "       [0.54746234],\n",
       "       [0.72775122],\n",
       "       [0.2911385 ],\n",
       "       [0.3726359 ],\n",
       "       [0.47179899],\n",
       "       [0.30644588],\n",
       "       [0.23904164],\n",
       "       [0.50188722],\n",
       "       [0.56647918],\n",
       "       [0.52080458],\n",
       "       [0.42863953],\n",
       "       [0.26493265],\n",
       "       [0.62128001],\n",
       "       [0.37237754],\n",
       "       [0.28298776],\n",
       "       [0.61485077],\n",
       "       [0.43795845],\n",
       "       [0.55076214],\n",
       "       [0.39556023],\n",
       "       [0.39568902],\n",
       "       [0.75865395],\n",
       "       [0.19270023],\n",
       "       [0.28900791],\n",
       "       [0.47782689],\n",
       "       [0.57734658],\n",
       "       [0.49157341],\n",
       "       [0.41555485],\n",
       "       [0.523032  ],\n",
       "       [0.55352142],\n",
       "       [0.12090943],\n",
       "       [0.29916352],\n",
       "       [0.80505204],\n",
       "       [0.31747576],\n",
       "       [0.50863303],\n",
       "       [0.60375334],\n",
       "       [0.45444407],\n",
       "       [0.72905982],\n",
       "       [0.47053558],\n",
       "       [0.38187033],\n",
       "       [0.60642838],\n",
       "       [0.46779854],\n",
       "       [0.31338011],\n",
       "       [0.68037083],\n",
       "       [0.54907212],\n",
       "       [0.46675557],\n",
       "       [0.33560612],\n",
       "       [0.54497514],\n",
       "       [0.67013948],\n",
       "       [0.56449711],\n",
       "       [0.42720002],\n",
       "       [0.78016463],\n",
       "       [0.62002621],\n",
       "       [0.56450168],\n",
       "       [0.14824364],\n",
       "       [0.46027877],\n",
       "       [0.53430602],\n",
       "       [0.52189581],\n",
       "       [0.43771229],\n",
       "       [0.62661214],\n",
       "       [0.55469987],\n",
       "       [0.49091635],\n",
       "       [0.43394857],\n",
       "       [0.84054134],\n",
       "       [0.42962519],\n",
       "       [0.14863766],\n",
       "       [0.5420261 ],\n",
       "       [0.52378641],\n",
       "       [0.45521229],\n",
       "       [0.66991531],\n",
       "       [0.50787179],\n",
       "       [0.60017103],\n",
       "       [0.81820046],\n",
       "       [0.49287831],\n",
       "       [0.5222931 ],\n",
       "       [0.48791067],\n",
       "       [0.42114943],\n",
       "       [0.53018684],\n",
       "       [0.56467566],\n",
       "       [0.19154167],\n",
       "       [0.54529522],\n",
       "       [0.24646921],\n",
       "       [0.51540401],\n",
       "       [0.52673735],\n",
       "       [0.344062  ],\n",
       "       [0.48459001],\n",
       "       [0.72480623],\n",
       "       [0.21439436],\n",
       "       [0.32804493],\n",
       "       [0.49893066],\n",
       "       [0.5465529 ],\n",
       "       [0.60453629],\n",
       "       [0.52648517],\n",
       "       [0.40485272],\n",
       "       [0.50035241],\n",
       "       [0.47873651],\n",
       "       [0.56811431],\n",
       "       [0.48846357],\n",
       "       [0.50814651],\n",
       "       [0.5048829 ],\n",
       "       [0.66841888],\n",
       "       [0.49297475],\n",
       "       [0.70197943],\n",
       "       [0.16412978],\n",
       "       [0.4287247 ],\n",
       "       [0.76253593],\n",
       "       [0.51838974],\n",
       "       [0.60728039],\n",
       "       [0.42634618],\n",
       "       [0.45382041],\n",
       "       [0.37719946],\n",
       "       [1.        ],\n",
       "       [0.56702642],\n",
       "       [0.52693631],\n",
       "       [0.7427002 ],\n",
       "       [0.77729956],\n",
       "       [0.5965593 ],\n",
       "       [0.52751195],\n",
       "       [0.47019791],\n",
       "       [0.77672238],\n",
       "       [0.50001154],\n",
       "       [0.56538749],\n",
       "       [0.42155708],\n",
       "       [0.46981253],\n",
       "       [0.46217916],\n",
       "       [0.36167369],\n",
       "       [0.64750739],\n",
       "       [0.72380375],\n",
       "       [0.33380674],\n",
       "       [0.56901367],\n",
       "       [0.5972613 ],\n",
       "       [0.44492764],\n",
       "       [0.71491172],\n",
       "       [0.56199216],\n",
       "       [0.86759109],\n",
       "       [0.31289637],\n",
       "       [0.37815253],\n",
       "       [0.64545808],\n",
       "       [0.3119255 ],\n",
       "       [0.41053523],\n",
       "       [0.81533714],\n",
       "       [0.52661271],\n",
       "       [0.3051776 ],\n",
       "       [0.82285018],\n",
       "       [0.58164331],\n",
       "       [0.53723155],\n",
       "       [0.60183344],\n",
       "       [0.45880771],\n",
       "       [0.49908055],\n",
       "       [0.63925743],\n",
       "       [0.31561446],\n",
       "       [0.37779655],\n",
       "       [0.41838955],\n",
       "       [0.5343264 ],\n",
       "       [0.58506904],\n",
       "       [0.33251345],\n",
       "       [0.47759537],\n",
       "       [0.41407692],\n",
       "       [0.56960734],\n",
       "       [0.45531219],\n",
       "       [0.46885649],\n",
       "       [0.4362737 ],\n",
       "       [0.50939895],\n",
       "       [0.39544824],\n",
       "       [0.42223485],\n",
       "       [0.62041473],\n",
       "       [0.41053254],\n",
       "       [0.45869677],\n",
       "       [0.04981603],\n",
       "       [0.2561583 ],\n",
       "       [0.46773647],\n",
       "       [0.40664378],\n",
       "       [0.4615406 ],\n",
       "       [0.30614901],\n",
       "       [0.59721993],\n",
       "       [0.53369389],\n",
       "       [0.57366948],\n",
       "       [0.61236387],\n",
       "       [0.59931944],\n",
       "       [0.47856826],\n",
       "       [0.53007738],\n",
       "       [0.2650104 ],\n",
       "       [0.21316327],\n",
       "       [0.37072477],\n",
       "       [0.48259225],\n",
       "       [0.61816285],\n",
       "       [0.37724541],\n",
       "       [0.61231998],\n",
       "       [0.45672673],\n",
       "       [0.18438195],\n",
       "       [0.33173992],\n",
       "       [0.28242388],\n",
       "       [0.29231919],\n",
       "       [0.55421359],\n",
       "       [0.63486085],\n",
       "       [0.73808769],\n",
       "       [0.43668833],\n",
       "       [0.4747199 ],\n",
       "       [0.41101838],\n",
       "       [0.56891394],\n",
       "       [0.43693203],\n",
       "       [0.40680623],\n",
       "       [0.27793926],\n",
       "       [0.67273869],\n",
       "       [0.6457801 ],\n",
       "       [0.45118709],\n",
       "       [0.28171911],\n",
       "       [0.72143981],\n",
       "       [0.3893741 ],\n",
       "       [0.60902435],\n",
       "       [0.41919878],\n",
       "       [0.40905353],\n",
       "       [0.4118826 ],\n",
       "       [0.499023  ],\n",
       "       [0.51326977],\n",
       "       [0.48730944],\n",
       "       [0.4526464 ],\n",
       "       [0.60117759],\n",
       "       [0.42256447],\n",
       "       [0.46357095],\n",
       "       [0.50726309],\n",
       "       [0.6538108 ],\n",
       "       [0.2895323 ],\n",
       "       [0.52129727],\n",
       "       [0.68033622],\n",
       "       [0.59466257],\n",
       "       [0.30133556],\n",
       "       [0.40771621],\n",
       "       [0.35945319],\n",
       "       [0.64234067],\n",
       "       [0.63167261],\n",
       "       [0.45669016],\n",
       "       [0.58685749],\n",
       "       [0.34170423],\n",
       "       [0.3854533 ],\n",
       "       [0.81194719],\n",
       "       [0.26804521],\n",
       "       [0.51744133],\n",
       "       [0.65035196],\n",
       "       [0.26177748],\n",
       "       [0.6268025 ],\n",
       "       [0.27669569],\n",
       "       [0.37927499],\n",
       "       [0.24788603],\n",
       "       [0.5264948 ],\n",
       "       [0.74688327],\n",
       "       [0.36510463],\n",
       "       [0.61500514],\n",
       "       [0.65554063],\n",
       "       [0.6950749 ],\n",
       "       [0.69078257],\n",
       "       [0.73184274],\n",
       "       [0.65623527],\n",
       "       [0.54372318],\n",
       "       [0.61005611],\n",
       "       [0.44592089],\n",
       "       [0.50211776],\n",
       "       [0.80794216],\n",
       "       [0.39792327],\n",
       "       [0.38927052],\n",
       "       [0.85449963],\n",
       "       [0.25779114],\n",
       "       [0.54380447],\n",
       "       [0.571387  ],\n",
       "       [0.47773971],\n",
       "       [0.56035434],\n",
       "       [0.54839351],\n",
       "       [0.58368485],\n",
       "       [0.27413582],\n",
       "       [0.78232624],\n",
       "       [0.46743215],\n",
       "       [0.42849005],\n",
       "       [0.56687473],\n",
       "       [0.32687852],\n",
       "       [0.43537481],\n",
       "       [0.31967601],\n",
       "       [0.47568675],\n",
       "       [0.61366712],\n",
       "       [0.81860421],\n",
       "       [0.77280198],\n",
       "       [0.41795296],\n",
       "       [0.46343171],\n",
       "       [0.43505067],\n",
       "       [0.49841668],\n",
       "       [0.44900269],\n",
       "       [0.30740999],\n",
       "       [0.65320953],\n",
       "       [0.45217002],\n",
       "       [0.45760058],\n",
       "       [0.64539707],\n",
       "       [0.50997782],\n",
       "       [0.47698891],\n",
       "       [0.79707352],\n",
       "       [0.59067519],\n",
       "       [0.39949626],\n",
       "       [0.30761974],\n",
       "       [0.38056275],\n",
       "       [0.4352791 ],\n",
       "       [0.66900144],\n",
       "       [0.71104101],\n",
       "       [0.54907635],\n",
       "       [0.4111198 ],\n",
       "       [0.4237175 ],\n",
       "       [0.58387492],\n",
       "       [0.2138602 ],\n",
       "       [0.19197549],\n",
       "       [0.40675569],\n",
       "       [0.45706646],\n",
       "       [0.406246  ],\n",
       "       [0.48907732]])"
      ]
     },
     "execution_count": 220,
     "metadata": {},
     "output_type": "execute_result"
    }
   ],
   "source": [
    "y_train"
   ]
  },
  {
   "cell_type": "code",
   "execution_count": 221,
   "metadata": {
    "colab": {
     "base_uri": "https://localhost:8080/"
    },
    "id": "ig4oMA_8Fogv",
    "outputId": "0f47ab7f-bd7c-410b-f39d-f1e15834084d"
   },
   "outputs": [
    {
     "data": {
      "text/plain": [
       "(450, 1)"
      ]
     },
     "execution_count": 221,
     "metadata": {},
     "output_type": "execute_result"
    }
   ],
   "source": [
    "y_train.shape\n"
   ]
  },
  {
   "cell_type": "markdown",
   "metadata": {
    "id": "NENyjedPGJ0x"
   },
   "source": [
    "## Building Neural Network"
   ]
  },
  {
   "cell_type": "code",
   "execution_count": 222,
   "metadata": {
    "id": "Rsontz3Ua7HT"
   },
   "outputs": [],
   "source": [
    "model= Sequential()\n",
    "model.add(Dense(25,  activation ='relu'))\n",
    "model.add(Dense(25,  activation ='relu'))\n",
    "model.add(Dense(1,  activation ='linear'))"
   ]
  },
  {
   "cell_type": "code",
   "execution_count": 223,
   "metadata": {
    "id": "CggoKDmylMPi"
   },
   "outputs": [],
   "source": [
    "from sklearn import metrics\n",
    "model.compile(optimizer ='adam', loss= 'mean_squared_error')"
   ]
  },
  {
   "cell_type": "code",
   "execution_count": 224,
   "metadata": {
    "colab": {
     "base_uri": "https://localhost:8080/"
    },
    "id": "GWh8sZLklWJj",
    "outputId": "430a30ef-3769-4e8d-904b-8b2348fd58f4"
   },
   "outputs": [
    {
     "name": "stdout",
     "output_type": "stream",
     "text": [
      "Epoch 1/50\n",
      "18/18 [==============================] - 0s 9ms/step - loss: 0.2297 - val_loss: 0.1305\n",
      "Epoch 2/50\n",
      "18/18 [==============================] - 0s 3ms/step - loss: 0.0601 - val_loss: 0.0263\n",
      "Epoch 3/50\n",
      "18/18 [==============================] - 0s 3ms/step - loss: 0.0156 - val_loss: 0.0130\n",
      "Epoch 4/50\n",
      "18/18 [==============================] - 0s 4ms/step - loss: 0.0125 - val_loss: 0.0117\n",
      "Epoch 5/50\n",
      "18/18 [==============================] - 0s 3ms/step - loss: 0.0099 - val_loss: 0.0114\n",
      "Epoch 6/50\n",
      "18/18 [==============================] - 0s 4ms/step - loss: 0.0086 - val_loss: 0.0107\n",
      "Epoch 7/50\n",
      "18/18 [==============================] - 0s 4ms/step - loss: 0.0077 - val_loss: 0.0099\n",
      "Epoch 8/50\n",
      "18/18 [==============================] - 0s 3ms/step - loss: 0.0069 - val_loss: 0.0093\n",
      "Epoch 9/50\n",
      "18/18 [==============================] - 0s 4ms/step - loss: 0.0063 - val_loss: 0.0088\n",
      "Epoch 10/50\n",
      "18/18 [==============================] - 0s 4ms/step - loss: 0.0058 - val_loss: 0.0082\n",
      "Epoch 11/50\n",
      "18/18 [==============================] - 0s 4ms/step - loss: 0.0054 - val_loss: 0.0078\n",
      "Epoch 12/50\n",
      "18/18 [==============================] - 0s 4ms/step - loss: 0.0051 - val_loss: 0.0075\n",
      "Epoch 13/50\n",
      "18/18 [==============================] - 0s 3ms/step - loss: 0.0047 - val_loss: 0.0071\n",
      "Epoch 14/50\n",
      "18/18 [==============================] - 0s 4ms/step - loss: 0.0044 - val_loss: 0.0068\n",
      "Epoch 15/50\n",
      "18/18 [==============================] - 0s 4ms/step - loss: 0.0042 - val_loss: 0.0064\n",
      "Epoch 16/50\n",
      "18/18 [==============================] - 0s 4ms/step - loss: 0.0039 - val_loss: 0.0061\n",
      "Epoch 17/50\n",
      "18/18 [==============================] - 0s 3ms/step - loss: 0.0037 - val_loss: 0.0059\n",
      "Epoch 18/50\n",
      "18/18 [==============================] - 0s 3ms/step - loss: 0.0035 - val_loss: 0.0056\n",
      "Epoch 19/50\n",
      "18/18 [==============================] - 0s 4ms/step - loss: 0.0033 - val_loss: 0.0053\n",
      "Epoch 20/50\n",
      "18/18 [==============================] - 0s 4ms/step - loss: 0.0032 - val_loss: 0.0051\n",
      "Epoch 21/50\n",
      "18/18 [==============================] - 0s 3ms/step - loss: 0.0031 - val_loss: 0.0049\n",
      "Epoch 22/50\n",
      "18/18 [==============================] - 0s 3ms/step - loss: 0.0029 - val_loss: 0.0047\n",
      "Epoch 23/50\n",
      "18/18 [==============================] - 0s 4ms/step - loss: 0.0028 - val_loss: 0.0045\n",
      "Epoch 24/50\n",
      "18/18 [==============================] - 0s 3ms/step - loss: 0.0027 - val_loss: 0.0044\n",
      "Epoch 25/50\n",
      "18/18 [==============================] - 0s 3ms/step - loss: 0.0026 - val_loss: 0.0042\n",
      "Epoch 26/50\n",
      "18/18 [==============================] - 0s 3ms/step - loss: 0.0025 - val_loss: 0.0040\n",
      "Epoch 27/50\n",
      "18/18 [==============================] - 0s 3ms/step - loss: 0.0024 - val_loss: 0.0038\n",
      "Epoch 28/50\n",
      "18/18 [==============================] - 0s 4ms/step - loss: 0.0023 - val_loss: 0.0038\n",
      "Epoch 29/50\n",
      "18/18 [==============================] - 0s 3ms/step - loss: 0.0023 - val_loss: 0.0035\n",
      "Epoch 30/50\n",
      "18/18 [==============================] - 0s 3ms/step - loss: 0.0021 - val_loss: 0.0034\n",
      "Epoch 31/50\n",
      "18/18 [==============================] - 0s 4ms/step - loss: 0.0020 - val_loss: 0.0032\n",
      "Epoch 32/50\n",
      "18/18 [==============================] - 0s 3ms/step - loss: 0.0020 - val_loss: 0.0031\n",
      "Epoch 33/50\n",
      "18/18 [==============================] - 0s 4ms/step - loss: 0.0019 - val_loss: 0.0030\n",
      "Epoch 34/50\n",
      "18/18 [==============================] - 0s 4ms/step - loss: 0.0018 - val_loss: 0.0029\n",
      "Epoch 35/50\n",
      "18/18 [==============================] - 0s 4ms/step - loss: 0.0018 - val_loss: 0.0027\n",
      "Epoch 36/50\n",
      "18/18 [==============================] - 0s 3ms/step - loss: 0.0017 - val_loss: 0.0026\n",
      "Epoch 37/50\n",
      "18/18 [==============================] - 0s 3ms/step - loss: 0.0017 - val_loss: 0.0025\n",
      "Epoch 38/50\n",
      "18/18 [==============================] - 0s 4ms/step - loss: 0.0016 - val_loss: 0.0024\n",
      "Epoch 39/50\n",
      "18/18 [==============================] - 0s 3ms/step - loss: 0.0016 - val_loss: 0.0024\n",
      "Epoch 40/50\n",
      "18/18 [==============================] - 0s 4ms/step - loss: 0.0015 - val_loss: 0.0022\n",
      "Epoch 41/50\n",
      "18/18 [==============================] - 0s 4ms/step - loss: 0.0014 - val_loss: 0.0022\n",
      "Epoch 42/50\n",
      "18/18 [==============================] - 0s 4ms/step - loss: 0.0013 - val_loss: 0.0021\n",
      "Epoch 43/50\n",
      "18/18 [==============================] - 0s 4ms/step - loss: 0.0013 - val_loss: 0.0020\n",
      "Epoch 44/50\n",
      "18/18 [==============================] - 0s 3ms/step - loss: 0.0012 - val_loss: 0.0018\n",
      "Epoch 45/50\n",
      "18/18 [==============================] - 0s 5ms/step - loss: 0.0012 - val_loss: 0.0017\n",
      "Epoch 46/50\n",
      "18/18 [==============================] - 0s 4ms/step - loss: 0.0012 - val_loss: 0.0017\n",
      "Epoch 47/50\n",
      "18/18 [==============================] - 0s 3ms/step - loss: 0.0011 - val_loss: 0.0016\n",
      "Epoch 48/50\n",
      "18/18 [==============================] - 0s 4ms/step - loss: 0.0011 - val_loss: 0.0015\n",
      "Epoch 49/50\n",
      "18/18 [==============================] - 0s 3ms/step - loss: 0.0010 - val_loss: 0.0015\n",
      "Epoch 50/50\n",
      "18/18 [==============================] - 0s 3ms/step - loss: 0.0010 - val_loss: 0.0015\n"
     ]
    }
   ],
   "source": [
    "epochs_history = model.fit(X_train, y_train, epochs = 50, batch_size = 20, verbose = 1, validation_split = 0.2, shuffle=True)"
   ]
  },
  {
   "cell_type": "code",
   "execution_count": 225,
   "metadata": {
    "colab": {
     "base_uri": "https://localhost:8080/"
    },
    "id": "9Zw3NFFiMKoG",
    "outputId": "23c01fc7-9635-45f3-e0db-256b37f98f23"
   },
   "outputs": [
    {
     "name": "stdout",
     "output_type": "stream",
     "text": [
      "Model: \"sequential_9\"\n",
      "_________________________________________________________________\n",
      " Layer (type)                Output Shape              Param #   \n",
      "=================================================================\n",
      " dense_27 (Dense)            (None, 25)                150       \n",
      "                                                                 \n",
      " dense_28 (Dense)            (None, 25)                650       \n",
      "                                                                 \n",
      " dense_29 (Dense)            (None, 1)                 26        \n",
      "                                                                 \n",
      "=================================================================\n",
      "Total params: 826\n",
      "Trainable params: 826\n",
      "Non-trainable params: 0\n",
      "_________________________________________________________________\n"
     ]
    }
   ],
   "source": [
    "model.summary()"
   ]
  },
  {
   "cell_type": "code",
   "execution_count": 226,
   "metadata": {
    "colab": {
     "base_uri": "https://localhost:8080/"
    },
    "id": "irzA9Kv7JVfY",
    "outputId": "2842a8f6-a0fe-4ca1-9b79-93279a612255"
   },
   "outputs": [
    {
     "name": "stdout",
     "output_type": "stream",
     "text": [
      "dict_keys(['loss', 'val_loss'])\n"
     ]
    }
   ],
   "source": [
    "print(epochs_history.history.keys())"
   ]
  },
  {
   "cell_type": "code",
   "execution_count": 227,
   "metadata": {
    "colab": {
     "base_uri": "https://localhost:8080/",
     "height": 312
    },
    "id": "E875BOC2loX9",
    "outputId": "1ae97f9d-3ef8-40d9-ff9e-1740b7c425be"
   },
   "outputs": [
    {
     "data": {
      "text/plain": [
       "<matplotlib.legend.Legend at 0x7fe0ad66ea60>"
      ]
     },
     "execution_count": 227,
     "metadata": {},
     "output_type": "execute_result"
    },
    {
     "data": {
      "image/png": "[encoded data removed]",
      "text/plain": [
       "<Figure size 432x288 with 1 Axes>"
      ]
     },
     "metadata": {
      "needs_background": "light"
     },
     "output_type": "display_data"
    }
   ],
   "source": [
    "plt.plot(epochs_history.history['loss'])\n",
    "plt.plot(epochs_history.history['val_loss'])\n",
    "plt.title('Model loss progression during training / validation')\n",
    "plt.ylabel('Training and validation loss')\n",
    "plt.xlabel('Epoch number')\n",
    "plt.legend(['Training loss','Validation loss'])"
   ]
  },
  {
   "cell_type": "markdown",
   "metadata": {
    "id": "cS4c0AucNzGW"
   },
   "source": [
    "## Model Evaluation"
   ]
  },
  {
   "cell_type": "code",
   "execution_count": 228,
   "metadata": {
    "id": "nQ6JmQt4Yv42"
   },
   "outputs": [],
   "source": [
    "def measure_rmse(actual, predicted):\n",
    "  return np.sqrt(mean_squared_error(actual, predicted))"
   ]
  },
  {
   "cell_type": "code",
   "execution_count": 229,
   "metadata": {
    "colab": {
     "base_uri": "https://localhost:8080/"
    },
    "id": "iZUyNnRSmJeU",
    "outputId": "a901c1c6-18da-4ca2-b8ce-ad4df73238f9"
   },
   "outputs": [
    {
     "name": "stdout",
     "output_type": "stream",
     "text": [
      "15/15 [==============================] - 0s 1ms/step\n"
     ]
    }
   ],
   "source": [
    "y_train_pred = model.predict(X_train)"
   ]
  },
  {
   "cell_type": "code",
   "execution_count": 230,
   "metadata": {
    "colab": {
     "base_uri": "https://localhost:8080/"
    },
    "id": "V5bs7oTzmRmf",
    "outputId": "4fa7dadd-44c1-4e15-b8a7-14d14b1a790a"
   },
   "outputs": [
    {
     "name": "stdout",
     "output_type": "stream",
     "text": [
      "2/2 [==============================] - 0s 6ms/step\n"
     ]
    }
   ],
   "source": [
    "y_pred = model.predict(X_test)"
   ]
  },
  {
   "cell_type": "code",
   "execution_count": 231,
   "metadata": {
    "colab": {
     "base_uri": "https://localhost:8080/"
    },
    "id": "8wroCMm9X_aU",
    "outputId": "45acd133-1ef8-40be-f434-7e19b0110e81"
   },
   "outputs": [
    {
     "data": {
      "text/plain": [
       "0.03330839333826202"
      ]
     },
     "execution_count": 231,
     "metadata": {},
     "output_type": "execute_result"
    }
   ],
   "source": [
    "measure_rmse(y_train, y_train_pred)"
   ]
  },
  {
   "cell_type": "code",
   "execution_count": 232,
   "metadata": {
    "colab": {
     "base_uri": "https://localhost:8080/"
    },
    "id": "8C81Wyvxmqi4",
    "outputId": "9a4680ca-7eb1-4ce4-9159-8de35e6e6c02"
   },
   "outputs": [
    {
     "data": {
      "text/plain": [
       "3980.1372953295872"
      ]
     },
     "execution_count": 232,
     "metadata": {},
     "output_type": "execute_result"
    }
   ],
   "source": [
    "measure_rmse(y_test, y_scaler.inverse_transform(y_pred))"
   ]
  },
  {
   "cell_type": "code",
   "execution_count": 233,
   "metadata": {
    "colab": {
     "base_uri": "https://localhost:8080/"
    },
    "id": "LyKAqnO-nzWo",
    "outputId": "873ffa88-11e9-448e-c216-6c285f223b30"
   },
   "outputs": [
    {
     "data": {
      "text/plain": [
       "0.9502837976547399"
      ]
     },
     "execution_count": 233,
     "metadata": {},
     "output_type": "execute_result"
    }
   ],
   "source": [
    "r2_score(y_train, y_train_pred)"
   ]
  },
  {
   "cell_type": "code",
   "execution_count": 234,
   "metadata": {
    "colab": {
     "base_uri": "https://localhost:8080/"
    },
    "id": "xUneDjVvYb-m",
    "outputId": "ab15f1d9-3969-426f-8b90-66c3904ab902"
   },
   "outputs": [
    {
     "data": {
      "text/plain": [
       "0.8895131576934218"
      ]
     },
     "execution_count": 234,
     "metadata": {},
     "output_type": "execute_result"
    }
   ],
   "source": [
    "r2_score(y_test, y_scaler.inverse_transform(y_pred))"
   ]
  },
  {
   "cell_type": "code",
   "execution_count": 235,
   "metadata": {
    "id": "ZStGsYLsn6CR"
   },
   "outputs": [],
   "source": [
    "X_testing = np.array([[1, 50, 50000, 10985, 629312]])"
   ]
  },
  {
   "cell_type": "code",
   "execution_count": 236,
   "metadata": {
    "id": "xxims_Eq7pgi"
   },
   "outputs": [],
   "source": [
    "X_test_scaled = scaler.transform(X_testing)"
   ]
  },
  {
   "cell_type": "code",
   "execution_count": 237,
   "metadata": {
    "colab": {
     "base_uri": "https://localhost:8080/"
    },
    "id": "AjOxZ4CSo1GY",
    "outputId": "b887def9-91d2-4729-aef8-c92c84626612"
   },
   "outputs": [
    {
     "name": "stdout",
     "output_type": "stream",
     "text": [
      "1/1 [==============================] - 0s 16ms/step\n"
     ]
    }
   ],
   "source": [
    "y_predict_scaled = model.predict(X_test_scaled)"
   ]
  },
  {
   "cell_type": "code",
   "execution_count": 238,
   "metadata": {
    "id": "scXRvwtEo7Zk"
   },
   "outputs": [],
   "source": [
    "y_pred_rev = y_scaler.inverse_transform(y_predict_scaled)"
   ]
  },
  {
   "cell_type": "code",
   "execution_count": 239,
   "metadata": {
    "colab": {
     "base_uri": "https://localhost:8080/"
    },
    "id": "nx76c1oZpGOO",
    "outputId": "8d029d69-82c7-4497-8ecf-ddb420751836"
   },
   "outputs": [
    {
     "name": "stdout",
     "output_type": "stream",
     "text": [
      "Expected purchase amount =  [46310.32]\n"
     ]
    }
   ],
   "source": [
    "print('Expected purchase amount = ', y_pred_rev[:, 0])"
   ]
  },
  {
   "cell_type": "markdown",
   "metadata": {
    "id": "sTgjjSAFU-Bs"
   },
   "source": [
    "## Additional model"
   ]
  },
  {
   "cell_type": "code",
   "execution_count": 246,
   "metadata": {
    "colab": {
     "base_uri": "https://localhost:8080/"
    },
    "id": "zJk4_CxQUmlA",
    "outputId": "ab8eb135-aa18-4db8-b5b1-c2bb47bf179f"
   },
   "outputs": [
    {
     "name": "stdout",
     "output_type": "stream",
     "text": [
      "Epoch 1/50\n",
      "18/18 [==============================] - 0s 6ms/step - loss: 5.6511e-04 - val_loss: 5.9175e-04\n",
      "Epoch 2/50\n",
      "18/18 [==============================] - 0s 4ms/step - loss: 5.6415e-04 - val_loss: 5.9230e-04\n",
      "Epoch 3/50\n",
      "18/18 [==============================] - 0s 4ms/step - loss: 5.6446e-04 - val_loss: 5.9282e-04\n",
      "Epoch 4/50\n",
      "18/18 [==============================] - 0s 4ms/step - loss: 5.6398e-04 - val_loss: 5.9055e-04\n",
      "Epoch 5/50\n",
      "18/18 [==============================] - 0s 4ms/step - loss: 5.6359e-04 - val_loss: 5.8986e-04\n",
      "Epoch 6/50\n",
      "18/18 [==============================] - 0s 4ms/step - loss: 5.6432e-04 - val_loss: 5.9186e-04\n",
      "Epoch 7/50\n",
      "18/18 [==============================] - 0s 4ms/step - loss: 5.6359e-04 - val_loss: 5.8616e-04\n",
      "Epoch 8/50\n",
      "18/18 [==============================] - 0s 4ms/step - loss: 5.6378e-04 - val_loss: 5.9744e-04\n",
      "Epoch 9/50\n",
      "18/18 [==============================] - 0s 3ms/step - loss: 5.6347e-04 - val_loss: 5.9421e-04\n",
      "Epoch 10/50\n",
      "18/18 [==============================] - 0s 3ms/step - loss: 5.6249e-04 - val_loss: 5.9075e-04\n",
      "Epoch 11/50\n",
      "18/18 [==============================] - 0s 4ms/step - loss: 5.6322e-04 - val_loss: 5.8536e-04\n",
      "Epoch 12/50\n",
      "18/18 [==============================] - 0s 3ms/step - loss: 5.6324e-04 - val_loss: 5.8599e-04\n",
      "Epoch 13/50\n",
      "18/18 [==============================] - 0s 4ms/step - loss: 5.6067e-04 - val_loss: 5.9443e-04\n",
      "Epoch 14/50\n",
      "18/18 [==============================] - 0s 3ms/step - loss: 5.6251e-04 - val_loss: 5.8498e-04\n",
      "Epoch 15/50\n",
      "18/18 [==============================] - 0s 3ms/step - loss: 5.6034e-04 - val_loss: 5.9003e-04\n",
      "Epoch 16/50\n",
      "18/18 [==============================] - 0s 4ms/step - loss: 5.6057e-04 - val_loss: 5.8381e-04\n",
      "Epoch 17/50\n",
      "18/18 [==============================] - 0s 3ms/step - loss: 5.5933e-04 - val_loss: 5.8366e-04\n",
      "Epoch 18/50\n",
      "18/18 [==============================] - 0s 3ms/step - loss: 5.5710e-04 - val_loss: 5.9222e-04\n",
      "Epoch 19/50\n",
      "18/18 [==============================] - 0s 4ms/step - loss: 5.5949e-04 - val_loss: 5.8847e-04\n",
      "Epoch 20/50\n",
      "18/18 [==============================] - 0s 4ms/step - loss: 5.5720e-04 - val_loss: 5.7846e-04\n",
      "Epoch 21/50\n",
      "18/18 [==============================] - 0s 4ms/step - loss: 5.5688e-04 - val_loss: 5.9042e-04\n",
      "Epoch 22/50\n",
      "18/18 [==============================] - 0s 3ms/step - loss: 5.5543e-04 - val_loss: 5.7249e-04\n",
      "Epoch 23/50\n",
      "18/18 [==============================] - 0s 3ms/step - loss: 5.5619e-04 - val_loss: 5.8262e-04\n",
      "Epoch 24/50\n",
      "18/18 [==============================] - 0s 3ms/step - loss: 5.5451e-04 - val_loss: 5.9281e-04\n",
      "Epoch 25/50\n",
      "18/18 [==============================] - 0s 4ms/step - loss: 5.5464e-04 - val_loss: 5.8090e-04\n",
      "Epoch 26/50\n",
      "18/18 [==============================] - 0s 5ms/step - loss: 5.5369e-04 - val_loss: 5.9412e-04\n",
      "Epoch 27/50\n",
      "18/18 [==============================] - 0s 3ms/step - loss: 5.5506e-04 - val_loss: 5.8781e-04\n",
      "Epoch 28/50\n",
      "18/18 [==============================] - 0s 4ms/step - loss: 5.5295e-04 - val_loss: 5.8902e-04\n",
      "Epoch 29/50\n",
      "18/18 [==============================] - 0s 3ms/step - loss: 5.5283e-04 - val_loss: 5.7526e-04\n",
      "Epoch 30/50\n",
      "18/18 [==============================] - 0s 4ms/step - loss: 5.5422e-04 - val_loss: 5.8918e-04\n",
      "Epoch 31/50\n",
      "18/18 [==============================] - 0s 3ms/step - loss: 5.5192e-04 - val_loss: 5.9435e-04\n",
      "Epoch 32/50\n",
      "18/18 [==============================] - 0s 3ms/step - loss: 5.5244e-04 - val_loss: 5.8767e-04\n",
      "Epoch 33/50\n",
      "18/18 [==============================] - 0s 3ms/step - loss: 5.5177e-04 - val_loss: 5.8328e-04\n",
      "Epoch 34/50\n",
      "18/18 [==============================] - 0s 4ms/step - loss: 5.5134e-04 - val_loss: 5.7577e-04\n",
      "Epoch 35/50\n",
      "18/18 [==============================] - 0s 3ms/step - loss: 5.5094e-04 - val_loss: 5.9042e-04\n",
      "Epoch 36/50\n",
      "18/18 [==============================] - 0s 4ms/step - loss: 5.4995e-04 - val_loss: 5.7138e-04\n",
      "Epoch 37/50\n",
      "18/18 [==============================] - 0s 4ms/step - loss: 5.5007e-04 - val_loss: 5.8599e-04\n",
      "Epoch 38/50\n",
      "18/18 [==============================] - 0s 3ms/step - loss: 5.4828e-04 - val_loss: 5.9400e-04\n",
      "Epoch 39/50\n",
      "18/18 [==============================] - 0s 4ms/step - loss: 5.4999e-04 - val_loss: 5.7187e-04\n",
      "Epoch 40/50\n",
      "18/18 [==============================] - 0s 4ms/step - loss: 5.5033e-04 - val_loss: 5.8764e-04\n",
      "Epoch 41/50\n",
      "18/18 [==============================] - 0s 3ms/step - loss: 5.4884e-04 - val_loss: 5.8838e-04\n",
      "Epoch 42/50\n",
      "18/18 [==============================] - 0s 4ms/step - loss: 5.5053e-04 - val_loss: 5.9227e-04\n",
      "Epoch 43/50\n",
      "18/18 [==============================] - 0s 5ms/step - loss: 5.4917e-04 - val_loss: 5.8493e-04\n",
      "Epoch 44/50\n",
      "18/18 [==============================] - 0s 3ms/step - loss: 5.4624e-04 - val_loss: 5.8653e-04\n",
      "Epoch 45/50\n",
      "18/18 [==============================] - 0s 3ms/step - loss: 5.4861e-04 - val_loss: 5.8380e-04\n",
      "Epoch 46/50\n",
      "18/18 [==============================] - 0s 4ms/step - loss: 5.4799e-04 - val_loss: 5.9103e-04\n",
      "Epoch 47/50\n",
      "18/18 [==============================] - 0s 3ms/step - loss: 5.4639e-04 - val_loss: 5.7947e-04\n",
      "Epoch 48/50\n",
      "18/18 [==============================] - 0s 3ms/step - loss: 5.4844e-04 - val_loss: 5.8411e-04\n",
      "Epoch 49/50\n",
      "18/18 [==============================] - 0s 3ms/step - loss: 5.4808e-04 - val_loss: 5.8419e-04\n",
      "Epoch 50/50\n",
      "18/18 [==============================] - 0s 3ms/step - loss: 5.4665e-04 - val_loss: 5.8407e-04\n"
     ]
    }
   ],
   "source": [
    "epochs_history = model.fit(X_train, y_train, epochs = 50, batch_size = 20, verbose = 1, validation_split = 0.2, shuffle=False)"
   ]
  },
  {
   "cell_type": "code",
   "execution_count": 247,
   "metadata": {
    "colab": {
     "base_uri": "https://localhost:8080/",
     "height": 312
    },
    "id": "mraYHIRIU8Yv",
    "outputId": "c3f40aaa-1511-4b33-9355-65bcdace08fb"
   },
   "outputs": [
    {
     "data": {
      "text/plain": [
       "<matplotlib.legend.Legend at 0x7fe0c27671c0>"
      ]
     },
     "execution_count": 247,
     "metadata": {},
     "output_type": "execute_result"
    },
    {
     "data": {
      "image/png": "[encoded data removed]",
      "text/plain": [
       "<Figure size 432x288 with 1 Axes>"
      ]
     },
     "metadata": {
      "needs_background": "light"
     },
     "output_type": "display_data"
    }
   ],
   "source": [
    "plt.plot(epochs_history.history['loss'])\n",
    "plt.plot(epochs_history.history['val_loss'])\n",
    "plt.title('Model loss progression during training / validation')\n",
    "plt.ylabel('Training and validation loss')\n",
    "plt.xlabel('Epoch number')\n",
    "plt.legend(['Training loss','Validation loss'])"
   ]
  },
  {
   "cell_type": "code",
   "execution_count": null,
   "metadata": {
    "id": "l6Zj5bRgVEsX"
   },
   "outputs": [],
   "source": []
  }
 ],
 "metadata": {
  "accelerator": "GPU",
  "colab": {
   "provenance": []
  },
  "gpuClass": "standard",
  "kernelspec": {
   "display_name": "Python 3 (ipykernel)",
   "language": "python",
   "name": "python3"
  },
  "language_info": {
   "codemirror_mode": {
    "name": "ipython",
    "version": 3
   },
   "file_extension": ".py",
   "mimetype": "text/x-python",
   "name": "python",
   "nbconvert_exporter": "python",
   "pygments_lexer": "ipython3",
   "version": "3.9.13"
  }
 },
 "nbformat": 4,
 "nbformat_minor": 1
}
